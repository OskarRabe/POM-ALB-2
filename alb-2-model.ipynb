{
 "cells": [
  {
   "attachments": {},
   "cell_type": "markdown",
   "metadata": {},
   "source": [
    "## Set up and imports\n",
    "---"
   ]
  },
  {
   "cell_type": "code",
   "execution_count": null,
   "metadata": {
    "ExecuteTime": {
     "end_time": "2025-02-28T10:38:20.581529Z",
     "start_time": "2025-02-28T10:38:19.479631Z"
    }
   },
   "outputs": [],
   "source": [
    "import gurobipy as gp\n",
    "from gurobipy import GRB\n",
    "from gurobipy import *\n",
    "import matplotlib.pyplot as plt\n",
    "import numpy as np\n",
    "import json\n",
    "import os\n",
    "\n",
    "from parse import read_file"
   ]
  },
  {
   "cell_type": "code",
   "execution_count": null,
   "metadata": {
    "ExecuteTime": {
     "end_time": "2025-02-28T10:38:20.610022Z",
     "start_time": "2025-02-28T10:38:20.603601Z"
    }
   },
   "outputs": [],
   "source": [
    "file_path = \"data/final_data/low_os/d_3_specialized_tasks.alb\"\n",
    "\n",
    "(\n",
    "    OperationsLength,\n",
    "    cycle_time,\n",
    "    order_strength,\n",
    "    op_times,\n",
    "    PrecRelations,\n",
    "    number_of_worker_categories,\n",
    "    worker_availability,\n",
    "    worker_modifiers,\n",
    "    StationsLength,\n",
    "    station_capacity,\n",
    "    worker_amount_modifiers,\n",
    "    worker_bounds,\n",
    ") = read_file(file_path)"
   ]
  },
  {
   "attachments": {},
   "cell_type": "markdown",
   "metadata": {},
   "source": [
    "## SALBP-2 model formulation\n",
    "-----------------------------------------"
   ]
  },
  {
   "attachments": {},
   "cell_type": "markdown",
   "metadata": {},
   "source": [
    "### Objective functions:\n",
    "The model has two objectives that are to be minimized:  $ min(z_1, z_2)$  \n",
    "\n",
    "$$\n",
    "z_1 = \\text{Cycle\\_Time} +\\text{symBreak\\_Op\\_at\\_Station} + \\text{symBreak\\_Worker\\_at\\_Op} + \\text{symBreak\\_Worker\\_at\\_Station} \\tag{1}\n",
    "$$\n",
    "\n",
    "\n",
    "$$\n",
    "z_2 = \\text{Smoothness\\_Score}+\\text{symBreak\\_Op\\_at\\_Station} + \\text{symBreak\\_Worker\\_at\\_Op} + \\text{symBreak\\_Worker\\_at\\_Station} \\tag{2}\n",
    "$$"
   ]
  },
  {
   "cell_type": "markdown",
   "metadata": {},
   "source": [
    "### Constraints:\n",
    "\n",
    "1) Assignment of every operation only once:  \n",
    "$$\\sum_{s \\in Stations} \\text{Op\\_at\\_Station}_{\\text{op},s} = 1  \\quad \\forall \\text{op} \\in \\text{Operations}$$\n",
    "\n",
    "2) Complying with the precedence relations:  \n",
    "$$\\sum_{s \\in Stations} \\text{Op\\_at\\_Station}_{\\text{op}_1,s} \\cdot s  \\leq \\sum_{s \\in Stations} \\text{Op\\_at\\_Station}_{\\text{op}_2,s} \\cdot s \\quad \\forall (\\text{op}_1, \\text{op}_2) \\in \\text{Precedence\\_Relation}$$\n",
    "\n",
    "3) Complying with the cycle time:  \n",
    "$$\\sum_{\\text{op} \\in \\text{Operations}} \\text{Op\\_at\\_Station}_{\\text{op}, s} \\cdot \\text{Actual\\_Time\\_per\\_Op}_{op} \\leq \\text{Cycle\\_Time} \\quad \\forall s \\in \\text{Stations}$$\n",
    "\n",
    "4) Cycle time non-negativity constraint:  \n",
    "$$\\text{Cycle\\_Time} \\geq 0$$\n",
    "\n",
    "5) Workers' ops only at one station:  \n",
    "$$\\sum_{s \\in Stations} \\text{Worker\\_at\\_Station}_{w, s} \\leq 1 \\quad \\forall w \\in \\text{Workers}$$\n",
    "\n",
    "6) Worker at station if operation assigned:  \n",
    "$$\\text{Worker\\_at\\_Station}_{w, s} \\geq \\text{Worker\\_at\\_Op}_{w, \\text{op}} + \\text{Op\\_at\\_Station}_{\\text{op}, s} - 1 \\quad \\forall w \\in \\text{Workers},\\; \\text{op} \\in \\text{Operations},\\; s \\in \\text{Stations}$$\n",
    "\n",
    "7) Operation worker bounds fulfilled:  \n",
    "$$\\sum_{w \\in \\text{Workers}} \\text{Worker\\_at\\_Op}_{w,\\text{op}} \\leq \\text{Worker\\_Bounds\\_per\\_Op}_{\\text{op},\\text{ub}} \\quad \\forall \\text{op} \\in \\text{Operations}$$  \n",
    "$$\\sum_{w \\in \\text{Workers}} \\text{Worker\\_at\\_Op}_{w,\\text{op}} \\geq \\text{Worker\\_Bounds\\_per\\_Op}_{\\text{op},\\text{lb}} \\quad \\forall \\text{op} \\in \\text{Operations}$$\n",
    "\n",
    "8) Station Capacity fulfilled:  \n",
    "$$\\sum_{w \\in \\text{Workers}} \\text{Worker\\_at\\_Station}_{w, s} \\leq \\text{Station\\_Capacity}_{s} \\quad \\forall s \\in \\text{Stations}$$\n",
    "\n",
    "9) Actual processing time:  \n",
    "$$\\text{Actual\\_Time\\_per\\_Op}_{\\text{op}} \\cdot \\sum_{w \\in \\text{Workers}} \\text{Worker\\_at\\_Op}_{w,\\text{op}} = \\text{Op\\_Times}_{\\text{op}} \\cdot \\text{Actual\\_Amount\\_Modifier\\_Op}_{\\text{op}} \\cdot \\sum_{w \\in \\text{Workers}} \\left( \\text{Worker\\_at\\_Op}_{w,\\text{op}} \\cdot \\text{Worker\\_Multiplier}_{w,\\text{op}} \\right) \\quad \\forall \\text{op} \\in \\text{Operations}$$\n",
    "\n",
    "10) Number of workers at each operation + amount modifier:  \n",
    "$$\\sum_{i \\in \\{1,\\dots, k\\}} \\text{N\\_Workers\\_at\\_Op}_{\\text{op}, i} = 1 \\quad \\forall \\text{op} \\in \\text{Operations}$$  \n",
    "$$\\sum_{i \\in \\{1,\\dots, k\\}} \\text{N\\_Workers\\_at\\_Op}_{\\text{op}, i} \\cdot i = \\sum_{w \\in \\text{Workers}} \\text{Worker\\_at\\_Op}_{w,\\text{op}} \\quad \\forall \\text{op} \\in \\text{Operations}$$  \n",
    "$$\\text{Actual\\_Amount\\_Modifier\\_Op}_{\\text{op}}  = \\sum_{i \\in \\{1,\\dots, k\\}} \\text{N\\_Workers\\_at\\_Op}_{\\text{op}, i} \\cdot \\text{Worker\\_Amount\\_Modifier}_{\\text{op}, i} \\quad \\forall \\text{op} \\in \\text{Operations}$$\n",
    "\n",
    "11) Modifier bounds:  \n",
    "$$\\text{Actual\\_Amount\\_Modifier\\_Op}_{\\text{op}} \\leq \\text{ub\\_Amount\\_Modifier}_{\\text{op}} \\quad \\forall \\text{op} \\in \\text{Operations}$$  \n",
    "$$\\text{Worker\\_at\\_Op}_{w,\\text{op}} \\cdot \\text{Worker\\_Multiplier}_{w,\\text{op}} \\leq \\text{ub\\_Worker\\_Modifier}_{w,\\text{op}} \\quad \\forall w \\in \\text{Workers},\\; \\text{op} \\in \\text{Operations}$$\n",
    "\n",
    "12) Each worker's time occupied:  \n",
    "$$\\text{Worker\\_Actual\\_Time}_{w} = \\sum_{\\text{op} \\in \\text{Operations}} \\text{Worker\\_at\\_Op}_{w,\\text{op}} \\cdot \\text{Actual\\_Time\\_per\\_Op}_{\\text{op}} \\quad \\forall w \\in \\text{Workers}$$\n",
    "\n",
    "13) Maximal occupied time of any worker:  \n",
    "$$\\text{Max\\_Workhours} \\geq \\text{Worker\\_Actual\\_Time}_{w} \\quad \\forall w \\in \\text{Workers}$$\n",
    "\n",
    "14) Smoothness score:  \n",
    "$$\\text{Smoothness\\_Score} \\geq \\sum_{w \\in \\text{Workers}} \\left( \\text{Max\\_Workhours} - \\text{Worker\\_Actual\\_Time}_{w} \\right)$$\n",
    "\n",
    "### Symmetry-breaking Constraints\n",
    "\n",
    "15) Symmetry breaking - Operation at station:  \n",
    "$$\\text{symBreak\\_Op\\_at\\_Station} \\geq \\sum_{\\text{op} \\in \\text{Operations}} \\sum_{s \\in \\text{Stations}} \\text{Op\\_at\\_Station}_{s, \\text{op}} \\cdot s \\cdot 0.1^{\\text{op}}$$\n",
    "\n",
    "16) Symmetry breaking - Worker at operation:  \n",
    "$$\\text{symBreak\\_Worker\\_at\\_Op} \\geq \\sum_{w \\in \\text{Workers}} \\sum_{\\text{op} \\in \\text{Operations}} \\text{Worker\\_at\\_Op}_{w,\\text{op}} \\cdot \\text{op} \\cdot 0.1^{w}$$\n",
    "\n",
    "17) Symmetry breaking - Worker at station:  \n",
    "$$\\text{symBreak\\_Worker\\_at\\_Station} \\geq \\sum_{w \\in \\text{Workers}} \\sum_{s \\in \\text{Stations}} \\text{Worker\\_at\\_Station}_{w, s} \\cdot s \\cdot 0.1^{w}$$\n"
   ]
  },
  {
   "attachments": {},
   "cell_type": "markdown",
   "metadata": {},
   "source": [
    "#### Indices and sets\n",
    "$op_1,op_2\\in(1,..,N)$: Operations                      \n",
    "\n",
    "$station\\in(1,..,M)$: Stations                         \n",
    "\n",
    "$(op_1,op_2)\\in P$: Set of precedence relations     \n",
    "\n",
    "$worker\\in(1,..,W)$: Workers\n",
    "\n",
    "$w\\_type\\in(1,..,WT)$: Worker type\n",
    "\n",
    "#### Parameters\n",
    "$(lb, ub) \\in Worker\\_Bounds\\_per\\_Op$: Worker bound tuple per operation\n",
    "\n",
    "$Op\\_Times\\_{op_1}$: Processing time of the operation\n",
    "\n",
    "$Worker\\_Amount\\_Modifier_{op,i}$: An operation's speedup for $i$ collaborating workers \n",
    "\n",
    "$ub\\_Amount\\_Modifier_op$: Upper bound for an operation's speedup through collaboration\n",
    "\n",
    "$ub\\_Worker\\_Modifier_{w,op}$: Upper bound for an operation’s speedup by worker\n",
    "\n",
    "$Worker\\_Availability_{type}$: Worker availability\n",
    "\n",
    "$Worker\\_Type\\_Multiplier_{type,op}$: Worker type multiplier\n",
    "\n",
    "$Station\\_Capacity_{s}$:  Station capacity\n",
    "\n",
    "\n",
    "#### Decision variables  \n",
    "\n",
    "$Cycle\\_Time$: Cycle time \n",
    "\n",
    "$Worker\\_Deviation$: Smoothness score in mathematical model  \n",
    "\n",
    "$Op\\_at\\_Station_{op_1,s}$: Binary variable     \n",
    "\n",
    "$Worker\\_at\\_Op_{w,op_1}$: Worker at operation\n",
    "\n",
    "$Worker\\_at\\_Station_{w,s}$: Worker at station\n",
    "\n",
    "$Actual\\_Processing\\_Time\\_per\\_Op_{op_1}$: Actual processing time per operation\n",
    "\n",
    "$Worker\\_actual\\_time\\_Var_{w}$: Sum of time each worker works in each cycle\n",
    "\n",
    "$Max\\_Workhours\\_Var$: Maximum time any worker works in each cycle  \n",
    "\n",
    "$nr\\_workers\\_at\\_op_{op_1,i}$: Number of workers i collaborating at an operation  \n",
    "\n",
    "$Actual\\_Amount\\_Modifier\\_Op_{op_1}$: Time factor used with assigned number of workers to an operation \n",
    "\n",
    "## Symmetry-breaking variables  \n",
    "\n",
    "$symBreak\\_Op\\_at\\_Station$: Symmetry-breaking variable for operation at station  \n",
    "\n",
    "$symBreak\\_Worker\\_at\\_Op$: Symmetry-breaking variable for worker at operation  \n",
    "\n",
    "$symBreak\\_Worker\\_at\\_Station$: Symmetry-breaking variable for worker at station  \n",
    "\n",
    "------------------------------------------------------------"
   ]
  },
  {
   "attachments": {},
   "cell_type": "markdown",
   "metadata": {},
   "source": [
    "### Create the model\n",
    "---"
   ]
  },
  {
   "cell_type": "code",
   "execution_count": null,
   "metadata": {
    "ExecuteTime": {
     "end_time": "2025-02-28T10:38:20.770768Z",
     "start_time": "2025-02-28T10:38:20.754739Z"
    }
   },
   "outputs": [],
   "source": [
    "# Model\n",
    "m = gp.Model(\"MILP\")\n",
    "\n",
    "m.setParam(\"OutputFlag\", 1)"
   ]
  },
  {
   "attachments": {},
   "cell_type": "markdown",
   "metadata": {},
   "source": [
    "### Sets and parameters\n",
    "---"
   ]
  },
  {
   "cell_type": "code",
   "execution_count": null,
   "metadata": {
    "ExecuteTime": {
     "end_time": "2025-02-28T10:38:20.844701Z",
     "start_time": "2025-02-28T10:38:20.839240Z"
    }
   },
   "outputs": [],
   "source": [
    "WorkerCount = 0\n",
    "for availability in worker_availability:\n",
    "    WorkerCount += availability\n",
    "\n",
    "Individual_Worker_Multiplier = []\n",
    "\n",
    "MAX_INDIVIDUAL_MODIFIER = 0\n",
    "for operation, worker in enumerate(worker_modifiers):\n",
    "    for j, task in enumerate(worker):\n",
    "        if task > MAX_INDIVIDUAL_MODIFIER and task != float(\"inf\"):\n",
    "            MAX_INDIVIDUAL_MODIFIER = task\n",
    "\n",
    "for operation, worker in enumerate(worker_modifiers):\n",
    "    for j, task in enumerate(worker):\n",
    "        if task == float(\"inf\"):\n",
    "            worker_modifiers[operation][j] = 2 * MAX_INDIVIDUAL_MODIFIER\n",
    "\n",
    "\n",
    "MAX_AMOUNT_MODIFIER = 0\n",
    "for operation, modifiers in enumerate(worker_amount_modifiers):\n",
    "    for amount, modifier in enumerate(modifiers):\n",
    "        if modifier > MAX_AMOUNT_MODIFIER and modifier != float(\"inf\"):\n",
    "            MAX_AMOUNT_MODIFIER = modifier\n",
    "\n",
    "for operation, modifiers in enumerate(worker_amount_modifiers):\n",
    "    for amount, modifier in enumerate(modifiers):\n",
    "        if modifier == float(\"inf\"):\n",
    "            worker_amount_modifiers[operation][amount] = 2 * MAX_AMOUNT_MODIFIER\n",
    "\n",
    "w_type = 0\n",
    "for availability in worker_availability:\n",
    "    for operation in range(availability):\n",
    "        bar_gap = []\n",
    "        for modifier in worker_modifiers:\n",
    "            bar_gap.append(modifier[w_type])\n",
    "        Individual_Worker_Multiplier.append(bar_gap)\n",
    "    w_type += 1"
   ]
  },
  {
   "attachments": {},
   "cell_type": "markdown",
   "metadata": {},
   "source": [
    "Insert the times needed for the single operations $t_i$ as an array."
   ]
  },
  {
   "cell_type": "code",
   "execution_count": null,
   "metadata": {
    "ExecuteTime": {
     "end_time": "2025-02-28T10:38:20.984291Z",
     "start_time": "2025-02-28T10:38:20.980408Z"
    },
    "scrolled": true
   },
   "outputs": [],
   "source": [
    "t = op_times"
   ]
  },
  {
   "attachments": {},
   "cell_type": "markdown",
   "metadata": {},
   "source": [
    "### Decision variables\n",
    "---"
   ]
  },
  {
   "attachments": {},
   "cell_type": "markdown",
   "metadata": {},
   "source": [
    "Define the decision variables including the non-negativity and binary constraints:\n",
    "\n",
    "**1)  Cycle time + non-negativity constraint**:"
   ]
  },
  {
   "cell_type": "code",
   "execution_count": null,
   "metadata": {
    "ExecuteTime": {
     "end_time": "2025-02-28T10:38:21.103542Z",
     "start_time": "2025-02-28T10:38:21.097562Z"
    }
   },
   "outputs": [],
   "source": [
    "Cycle_Time = m.addVar(lb=0, name=\"Cycle_Time\")"
   ]
  },
  {
   "cell_type": "markdown",
   "metadata": {},
   "source": [
    "**2) Smoothness score**: called Worker_Deviation in code"
   ]
  },
  {
   "cell_type": "code",
   "execution_count": null,
   "metadata": {},
   "outputs": [],
   "source": [
    "Worker_Deviation = m.addVar(lb=0, vtype=GRB.CONTINUOUS, name=\"Worker_Deviation\")"
   ]
  },
  {
   "attachments": {},
   "cell_type": "markdown",
   "metadata": {},
   "source": [
    "\n",
    "**3) Op_at_Station binary decision variable**: If operation is assigned to a station. "
   ]
  },
  {
   "cell_type": "code",
   "execution_count": null,
   "metadata": {
    "ExecuteTime": {
     "end_time": "2025-02-28T10:38:21.049694Z",
     "start_time": "2025-02-28T10:38:21.041429Z"
    }
   },
   "outputs": [],
   "source": [
    "Op_at_Station = m.addVars(OperationsLength, StationsLength, vtype=GRB.BINARY, name=\"Op_at_Station\")"
   ]
  },
  {
   "cell_type": "markdown",
   "metadata": {},
   "source": [
    "**4) Worker_at_Op binary decicion variable**: If operation is assigned to worker."
   ]
  },
  {
   "cell_type": "code",
   "execution_count": null,
   "metadata": {
    "ExecuteTime": {
     "end_time": "2025-02-28T10:38:21.207833Z",
     "start_time": "2025-02-28T10:38:21.203129Z"
    }
   },
   "outputs": [],
   "source": [
    "Worker_at_Op = m.addVars(WorkerCount, OperationsLength, vtype=GRB.BINARY, name=\"Worker_at_Operation\")"
   ]
  },
  {
   "cell_type": "markdown",
   "metadata": {},
   "source": [
    "**5) Worker_at_Station binary decicion variable**: If a workers operations are at a station."
   ]
  },
  {
   "cell_type": "code",
   "execution_count": null,
   "metadata": {
    "ExecuteTime": {
     "end_time": "2025-02-28T10:38:21.260604Z",
     "start_time": "2025-02-28T10:38:21.255487Z"
    }
   },
   "outputs": [],
   "source": [
    "Worker_at_Station = m.addVars(WorkerCount, StationsLength, vtype=GRB.BINARY, name=\"Worker_at_Station\")"
   ]
  },
  {
   "cell_type": "markdown",
   "metadata": {},
   "source": [
    "**6) An operations duration with the currently assigned workers**: Calculated by multiplying an operations time with the assigned workers average modifier. "
   ]
  },
  {
   "cell_type": "code",
   "execution_count": null,
   "metadata": {
    "ExecuteTime": {
     "end_time": "2025-02-28T10:38:21.316241Z",
     "start_time": "2025-02-28T10:38:21.310865Z"
    }
   },
   "outputs": [],
   "source": [
    "Actual_Processing_Time_per_Op = m.addVars(OperationsLength, vtype=GRB.CONTINUOUS, name=\"Actual_Processing_Time_per_Op\")"
   ]
  },
  {
   "cell_type": "markdown",
   "metadata": {},
   "source": [
    "**7) Time a worker is occupied during a cycle**: For calculating the maximum over all workers. "
   ]
  },
  {
   "cell_type": "code",
   "execution_count": null,
   "metadata": {
    "ExecuteTime": {
     "end_time": "2025-02-28T10:38:21.370113Z",
     "start_time": "2025-02-28T10:38:21.364295Z"
    }
   },
   "outputs": [],
   "source": [
    "Worker_actual_time_Var = m.addVars(WorkerCount, vtype=GRB.CONTINUOUS, name=\"Worker_actual_time_Var\")"
   ]
  },
  {
   "cell_type": "markdown",
   "metadata": {},
   "source": [
    "**8) Maximum over all workers occupied time**: For usage in objective. "
   ]
  },
  {
   "cell_type": "code",
   "execution_count": null,
   "metadata": {
    "ExecuteTime": {
     "end_time": "2025-02-28T10:38:21.421894Z",
     "start_time": "2025-02-28T10:38:21.415997Z"
    }
   },
   "outputs": [],
   "source": [
    "Max_Workhours_Var = m.addVar(lb=0, vtype=GRB.CONTINUOUS, name=\"Max_Workhours_Var\")"
   ]
  },
  {
   "cell_type": "markdown",
   "metadata": {},
   "source": [
    "**9) Number of workers used for an operation**"
   ]
  },
  {
   "cell_type": "code",
   "execution_count": null,
   "metadata": {},
   "outputs": [],
   "source": [
    "nr_workers_at_op = m.addVars(WorkerCount + 1, OperationsLength, vtype=GRB.BINARY, name=\"nrWorkersAtOp\")"
   ]
  },
  {
   "cell_type": "markdown",
   "metadata": {},
   "source": [
    "**10) Amount modifier for a specific operation based on the assigned number of workers**"
   ]
  },
  {
   "cell_type": "code",
   "execution_count": null,
   "metadata": {},
   "outputs": [],
   "source": [
    "actualAmountModifierOp = m.addVars(OperationsLength, vtype=GRB.CONTINUOUS, lb=0, ub=5, name=\"actualAmountModifierOp\")"
   ]
  },
  {
   "attachments": {},
   "cell_type": "markdown",
   "metadata": {},
   "source": [
    "**11)  Auxiliary variable to break symmetry**:  Prefer assignment to lower station number in case of multiple solutions."
   ]
  },
  {
   "cell_type": "code",
   "execution_count": null,
   "metadata": {
    "ExecuteTime": {
     "end_time": "2025-02-28T10:38:21.155300Z",
     "start_time": "2025-02-28T10:38:21.150458Z"
    }
   },
   "outputs": [],
   "source": [
    "symBreak_Op_at_Station = m.addVar(lb=0, name=\"symBreak_Op_at_Station\")\n",
    "symBreak_Worker_at_Op = m.addVar(lb=0, name=\"symBreak_Worker_at_Op\")\n",
    "symBreak_Worker_at_Station = m.addVar(lb=0, name=\"symBreak_Worker_at_Station\")"
   ]
  },
  {
   "cell_type": "markdown",
   "metadata": {},
   "source": [
    "Only used for graphing the results."
   ]
  },
  {
   "cell_type": "code",
   "execution_count": null,
   "metadata": {},
   "outputs": [],
   "source": [
    "Theoretical_Processing_Time_per_Op = m.addVars(\n",
    "    OperationsLength, vtype=GRB.CONTINUOUS, name=\"Theoretical_Processing_Time_per_Op\"\n",
    ")\n",
    "\n",
    "m.addConstrs(\n",
    "    (Theoretical_Processing_Time_per_Op[op] == op_times[op] for op in range(OperationsLength)),\n",
    "    name=\"theoreticalProcessingTimeCon\",\n",
    ")"
   ]
  },
  {
   "attachments": {},
   "cell_type": "markdown",
   "metadata": {},
   "source": [
    "### Objective functions\n",
    "---"
   ]
  },
  {
   "attachments": {},
   "cell_type": "markdown",
   "metadata": {},
   "source": [
    "Define the objective value to minimize the cycle time."
   ]
  },
  {
   "attachments": {},
   "cell_type": "markdown",
   "metadata": {},
   "source": [
    " 1) The goal of the first objective is to minimize the cycle time:  \n",
    "    $$min \\quad z_1 = \\text{Cycle\\_Time} +\\text{symBreak\\_Op\\_at\\_Station} + \\text{symBreak\\_Worker\\_at\\_Op} + \\text{symBreak\\_Worker\\_at\\_Station} $$\n",
    "\n",
    " 2) The goal of the second objective is minimize the difference in time each worker is occupied during a cycle:   \n",
    " \n",
    " $$ min \\quad z_2 = \\text{Smoothness\\_Score}+\\text{symBreak\\_Op\\_at\\_Station} + \\text{symBreak\\_Worker\\_at\\_Op} + \\text{symBreak\\_Worker\\_at\\_Station}$$"
   ]
  },
  {
   "cell_type": "code",
   "execution_count": null,
   "metadata": {
    "ExecuteTime": {
     "end_time": "2025-02-28T10:38:21.478041Z",
     "start_time": "2025-02-28T10:38:21.470072Z"
    }
   },
   "outputs": [],
   "source": [
    "# Objective 1\n",
    "\n",
    "m.setObjective(Cycle_Time + symBreak_Op_at_Station + symBreak_Worker_at_Op + symBreak_Worker_at_Station, GRB.MINIMIZE)\n",
    "\n",
    "# Objective 2\n",
    "\n",
    "# objective minimizes sum over differences from maximum\n",
    "# m.setObjective(symBreak_Op_at_Station + symBreak_Worker_at_Op + symBreak_Worker_at_Station + Worker_Deviation\n",
    "#    , GRB.MINIMIZE)"
   ]
  },
  {
   "attachments": {},
   "cell_type": "markdown",
   "metadata": {},
   "source": [
    "### Constraints\n",
    "---\n"
   ]
  },
  {
   "attachments": {},
   "cell_type": "markdown",
   "metadata": {},
   "source": [
    "**1) Assign every operation only once**: Each operation may be assigned only once. The sum of the number of assignments of each operation across all stations must therefore add up to one. "
   ]
  },
  {
   "attachments": {},
   "cell_type": "markdown",
   "metadata": {},
   "source": [
    "$$\\sum_{s \\in Stations} \\text{Op\\_at\\_Station}_{\\text{op},s} = 1  \\quad \\forall \\text{op} \\in \\text{Operations}$$\n"
   ]
  },
  {
   "cell_type": "code",
   "execution_count": null,
   "metadata": {
    "ExecuteTime": {
     "end_time": "2025-02-28T10:38:21.539363Z",
     "start_time": "2025-02-28T10:38:21.529627Z"
    }
   },
   "outputs": [],
   "source": [
    "m.addConstrs(\n",
    "    (quicksum(Op_at_Station[i, k] for k in range(StationsLength)) == 1 for i in range(OperationsLength)),\n",
    "    name=\"allOperCon\",\n",
    ")"
   ]
  },
  {
   "attachments": {},
   "cell_type": "markdown",
   "metadata": {},
   "source": [
    "**2) Complying the precedence relations**: An operation may only begin when the predecessor operation has been completed and can therefore not be processed on a station in front of its predecessors processing station."
   ]
  },
  {
   "attachments": {},
   "cell_type": "markdown",
   "metadata": {},
   "source": [
    "$$\\sum_{s \\in Stations} \\text{Op\\_at\\_Station}_{\\text{op}_1,s} \\cdot s  \\leq \\sum_{s \\in Stations} \\text{Op\\_at\\_Station}_{\\text{op}_2,s} \\cdot s \\quad \\forall (\\text{op}_1, \\text{op}_2) \\in \\text{Precedence\\_Relation}$$"
   ]
  },
  {
   "cell_type": "code",
   "execution_count": null,
   "metadata": {
    "ExecuteTime": {
     "end_time": "2025-02-28T10:38:21.595203Z",
     "start_time": "2025-02-28T10:38:21.587863Z"
    }
   },
   "outputs": [],
   "source": [
    "m.addConstrs(\n",
    "    (\n",
    "        quicksum(Op_at_Station[i, k] * k for k in range(StationsLength))\n",
    "        <= quicksum(Op_at_Station[j, k] * k for k in range(StationsLength))\n",
    "        for i in range(OperationsLength)\n",
    "        for j in range(OperationsLength)\n",
    "        if [i + 1, j + 1] in PrecRelations\n",
    "    ),\n",
    "    name=\"precRelCon\",\n",
    ")"
   ]
  },
  {
   "attachments": {},
   "cell_type": "markdown",
   "metadata": {},
   "source": [
    "**3) Complying the cycle time**:\n",
    "The cycle time must be smaller than the sum of the processing times of all operations carried out on a station."
   ]
  },
  {
   "attachments": {},
   "cell_type": "markdown",
   "metadata": {},
   "source": [
    "$$\\sum_{\\text{op} \\in \\text{Operations}} \\text{Op\\_at\\_Station}_{\\text{op}, s} \\cdot \\text{Actual\\_Time\\_per\\_Op}_{op} \\leq \\text{Cycle\\_Time} \\quad \\forall s \\in \\text{Stations}$$"
   ]
  },
  {
   "cell_type": "code",
   "execution_count": null,
   "metadata": {
    "ExecuteTime": {
     "end_time": "2025-02-28T10:38:21.649858Z",
     "start_time": "2025-02-28T10:38:21.644140Z"
    },
    "scrolled": true
   },
   "outputs": [],
   "source": [
    "m.addConstrs(\n",
    "    (\n",
    "        quicksum(Op_at_Station[op, station] * Actual_Processing_Time_per_Op[op] for op in range(OperationsLength))\n",
    "        <= Cycle_Time\n",
    "        for station in range(StationsLength)\n",
    "    ),\n",
    "    name=\"cycleTimeCon\",\n",
    ")"
   ]
  },
  {
   "attachments": {},
   "cell_type": "markdown",
   "metadata": {},
   "source": [
    "**4) Cycle_Time is larger or equal to zero (done in definition)**"
   ]
  },
  {
   "cell_type": "markdown",
   "metadata": {},
   "source": [
    "**5) Worker works at one station only**"
   ]
  },
  {
   "cell_type": "markdown",
   "metadata": {},
   "source": [
    "$$\\sum_{s \\in Stations} \\text{Worker\\_at\\_Station}_{w, s} \\leq 1 \\quad \\forall w \\in \\text{Workers}$$"
   ]
  },
  {
   "cell_type": "code",
   "execution_count": null,
   "metadata": {
    "ExecuteTime": {
     "end_time": "2025-02-28T10:38:21.758771Z",
     "start_time": "2025-02-28T10:38:21.752965Z"
    }
   },
   "outputs": [],
   "source": [
    "m.addConstrs(\n",
    "    (\n",
    "        quicksum(Worker_at_Station[worker, station] for station in range(StationsLength)) <= 1\n",
    "        for worker in range(WorkerCount)\n",
    "    ),\n",
    "    name=\"workerOneStationCon\",\n",
    ")"
   ]
  },
  {
   "cell_type": "markdown",
   "metadata": {},
   "source": [
    "**6) Worker at station if operation assigned**"
   ]
  },
  {
   "cell_type": "markdown",
   "metadata": {},
   "source": [
    "$$\\text{Worker\\_at\\_Station}_{w, s} \\geq \\text{Worker\\_at\\_Op}_{w, \\text{op}} + \\text{Op\\_at\\_Station}_{\\text{op}, s} - 1 \\quad \\forall w \\in \\text{Workers},\\; \\text{op} \\in \\text{Operations},\\; s \\in \\text{Stations}$$"
   ]
  },
  {
   "cell_type": "code",
   "execution_count": null,
   "metadata": {
    "ExecuteTime": {
     "end_time": "2025-02-28T10:38:21.886044Z",
     "start_time": "2025-02-28T10:38:21.862355Z"
    }
   },
   "outputs": [],
   "source": [
    "m.addConstrs(\n",
    "    (\n",
    "        Worker_at_Station[w, s] >= Worker_at_Op[w, o] + Op_at_Station[o, s] - 1\n",
    "        for w in range(WorkerCount)\n",
    "        for o in range(OperationsLength)\n",
    "        for s in range(StationsLength)\n",
    "    ),\n",
    "    name=\"workerAtStationLowerCon\",\n",
    ")"
   ]
  },
  {
   "cell_type": "markdown",
   "metadata": {},
   "source": [
    "**7) Operations bounds for number of assigned workers**"
   ]
  },
  {
   "cell_type": "code",
   "execution_count": null,
   "metadata": {
    "ExecuteTime": {
     "end_time": "2025-02-28T10:38:21.814123Z",
     "start_time": "2025-02-28T10:38:21.805258Z"
    }
   },
   "outputs": [],
   "source": [
    "m.addConstrs(\n",
    "    (\n",
    "        quicksum(Worker_at_Op[worker, op] for worker in range(WorkerCount)) <= worker_bounds[op][1]\n",
    "        for op in range(OperationsLength)\n",
    "    ),\n",
    "    name=\"workerBoundsUpperCon\",\n",
    ")\n",
    "m.addConstrs(\n",
    "    (\n",
    "        quicksum(Worker_at_Op[worker, op] for worker in range(WorkerCount)) >= worker_bounds[op][0]\n",
    "        for op in range(OperationsLength)\n",
    "    ),\n",
    "    name=\"workerBoundsLowerCon\",\n",
    ")"
   ]
  },
  {
   "cell_type": "markdown",
   "metadata": {},
   "source": [
    "**8) Stations capacity bounds for number of assigned workers**"
   ]
  },
  {
   "cell_type": "markdown",
   "metadata": {},
   "source": [
    "$$\\sum_{w \\in \\text{Workers}} \\text{Worker\\_at\\_Station}_{w, s} \\leq \\text{Station\\_Capacity}_{s} \\quad \\forall s \\in \\text{Stations}$$"
   ]
  },
  {
   "cell_type": "code",
   "execution_count": null,
   "metadata": {
    "ExecuteTime": {
     "end_time": "2025-02-28T10:38:21.965443Z",
     "start_time": "2025-02-28T10:38:21.960366Z"
    }
   },
   "outputs": [],
   "source": [
    "m.addConstrs(\n",
    "    (\n",
    "        quicksum(Worker_at_Station[worker, station] for worker in range(WorkerCount)) <= station_capacity[station]\n",
    "        for station in range(StationsLength)\n",
    "    ),\n",
    "    name=\"stationCapacityCon\",\n",
    ")"
   ]
  },
  {
   "cell_type": "markdown",
   "metadata": {},
   "source": [
    "**9) Set Actual processing time variables**"
   ]
  },
  {
   "cell_type": "markdown",
   "metadata": {},
   "source": [
    "$$\\text{Actual\\_Time\\_per\\_Op}_{\\text{op}} \\cdot \\sum_{w \\in \\text{Workers}} \\text{Worker\\_at\\_Op}_{w,\\text{op}} = \\text{Op\\_Times}_{\\text{op}} \\cdot \\text{Actual\\_Amount\\_Modifier\\_Op}_{\\text{op}} \\cdot \\sum_{w \\in \\text{Workers}} \\left( \\text{Worker\\_at\\_Op}_{w,\\text{op}} \\cdot \\text{Worker\\_Multiplier}_{w,\\text{op}} \\right) \\quad \\forall \\text{op} \\in \\text{Operations}$$"
   ]
  },
  {
   "cell_type": "code",
   "execution_count": null,
   "metadata": {},
   "outputs": [],
   "source": [
    "m.addConstrs(\n",
    "    (\n",
    "        Actual_Processing_Time_per_Op[op] * quicksum(Worker_at_Op[w, op] for w in range(WorkerCount))\n",
    "        == quicksum(\n",
    "            Worker_at_Op[worker, op] * Individual_Worker_Multiplier[worker][op] for worker in range(WorkerCount)\n",
    "        )\n",
    "        * op_times[op]\n",
    "        * actualAmountModifierOp[op]\n",
    "        for op in range(OperationsLength)\n",
    "    ),\n",
    "    name=\"actualProcessingTimeCon\",\n",
    ")"
   ]
  },
  {
   "cell_type": "markdown",
   "metadata": {},
   "source": [
    "**10) Calculate the worker amount modifier for every operation**"
   ]
  },
  {
   "cell_type": "markdown",
   "metadata": {},
   "source": [
    "$$\\sum_{i \\in \\{1,\\dots, k\\}} \\text{N\\_Workers\\_at\\_Op}_{\\text{op}, i} = 1 \\quad \\forall \\text{op} \\in \\text{Operations}$$  \n",
    "$$\\sum_{i \\in \\{1,\\dots, k\\}} \\text{N\\_Workers\\_at\\_Op}_{\\text{op}, i} \\cdot i = \\sum_{w \\in \\text{Workers}} \\text{Worker\\_at\\_Op}_{w,\\text{op}} \\quad \\forall \\text{op} \\in \\text{Operations}$$  \n",
    "$$\\text{Actual\\_Amount\\_Modifier\\_Op}_{\\text{op}}  = \\sum_{i \\in \\{1,\\dots, k\\}} \\text{N\\_Workers\\_at\\_Op}_{\\text{op}, i} \\cdot \\text{Worker\\_Amount\\_Modifier}_{\\text{op}, i} \\quad \\forall \\text{op} \\in \\text{Operations}$$"
   ]
  },
  {
   "cell_type": "code",
   "execution_count": null,
   "metadata": {},
   "outputs": [],
   "source": [
    "m.addConstrs(\n",
    "    (\n",
    "        ((quicksum(nr_workers_at_op[worker, op] for worker in range(1, WorkerCount + 1))) == 1)\n",
    "        for op in range(OperationsLength)\n",
    "    ),\n",
    "    name=\"exactlyOneWorkerNumberPerOpCon\",\n",
    ")\n",
    "\n",
    "m.addConstrs(\n",
    "    (\n",
    "        (quicksum(nr_workers_at_op[i, op] * i for i in range(1, WorkerCount + 1)))\n",
    "        == quicksum(Worker_at_Op[worker, op] for worker in range(WorkerCount))\n",
    "        for op in range(OperationsLength)\n",
    "    ),\n",
    "    name=\"nrWorkersAtOpCon\",\n",
    ")\n",
    "\n",
    "m.addConstrs(\n",
    "    (\n",
    "        actualAmountModifierOp[op]\n",
    "        == quicksum(\n",
    "            nr_workers_at_op[worker, op] * worker_amount_modifiers[op][worker - 1]\n",
    "            for worker in range(1, WorkerCount + 1)\n",
    "        )\n",
    "        for op in range(OperationsLength)\n",
    "    ),\n",
    "    name=\"actualAmountModifierOpCon\",\n",
    ")"
   ]
  },
  {
   "cell_type": "markdown",
   "metadata": {},
   "source": [
    "**11) Ensure only valid assignments for workers to operations**"
   ]
  },
  {
   "cell_type": "markdown",
   "metadata": {},
   "source": [
    "$$\\text{Actual\\_Amount\\_Modifier\\_Op}_{\\text{op}} \\leq \\text{ub\\_Amount\\_Modifier}_{\\text{op}} \\quad \\forall \\text{op} \\in \\text{Operations}$$  \n",
    "$$\\text{Worker\\_at\\_Op}_{w,\\text{op}} \\cdot \\text{Worker\\_Multiplier}_{w,\\text{op}} \\leq \\text{ub\\_Worker\\_Modifier}_{w,\\text{op}} \\quad \\forall w \\in \\text{Workers},\\; \\text{op} \\in \\text{Operations}$$"
   ]
  },
  {
   "cell_type": "code",
   "execution_count": null,
   "metadata": {},
   "outputs": [],
   "source": [
    "# constraint: Worker_at_Op[worker, op] * Individual_Worker_Multiplier[worker][op] < INFINITY_MULTIPLIER for all worker, op\n",
    "m.addConstrs(\n",
    "    (\n",
    "        Worker_at_Op[worker, op] * Individual_Worker_Multiplier[worker][op] <= MAX_INDIVIDUAL_MODIFIER\n",
    "        for worker in range(WorkerCount)\n",
    "        for op in range(OperationsLength)\n",
    "    ),\n",
    "    name=\"workerAssignmentInfinityCon\",\n",
    ")\n",
    "# constraint: actualAmountModifierOp[op] < INFINITY_MULTIPLIER\n",
    "m.addConstrs(\n",
    "    (actualAmountModifierOp[op] <= MAX_AMOUNT_MODIFIER for op in range(OperationsLength)),\n",
    "    name=\"actualAmountModifierOpInfinityCon\",\n",
    ")"
   ]
  },
  {
   "cell_type": "markdown",
   "metadata": {},
   "source": [
    "**12) Each worker's time occupied**"
   ]
  },
  {
   "cell_type": "markdown",
   "metadata": {},
   "source": [
    "$$\\text{Worker\\_Actual\\_Time}_{w} = \\sum_{\\text{op} \\in \\text{Operations}} \\text{Worker\\_at\\_Op}_{w,\\text{op}} \\cdot \\text{Actual\\_Time\\_per\\_Op}_{\\text{op}} \\quad \\forall w \\in \\text{Workers}$$"
   ]
  },
  {
   "cell_type": "code",
   "execution_count": null,
   "metadata": {},
   "outputs": [],
   "source": [
    "m.addConstrs(\n",
    "    (\n",
    "        Worker_actual_time_Var[worker]\n",
    "        == quicksum(Worker_at_Op[worker, op] * Actual_Processing_Time_per_Op[op] for op in range(OperationsLength))\n",
    "        for worker in range(WorkerCount)\n",
    "    ),\n",
    "    name=\"Worker_actual_time_Constr\",\n",
    ")"
   ]
  },
  {
   "cell_type": "markdown",
   "metadata": {},
   "source": [
    "**13) Maximal occupied time of any worker**"
   ]
  },
  {
   "cell_type": "markdown",
   "metadata": {},
   "source": [
    "$$\\text{Max\\_Workhours} \\geq \\text{Worker\\_Actual\\_Time}_{w} \\quad \\forall w \\in \\text{Workers}$$"
   ]
  },
  {
   "cell_type": "code",
   "execution_count": null,
   "metadata": {},
   "outputs": [],
   "source": [
    "m.addConstrs(\n",
    "    (Max_Workhours_Var >= Worker_actual_time_Var[worker] for worker in range(WorkerCount)), name=\"Max_Workhours_Constr\"\n",
    ")"
   ]
  },
  {
   "cell_type": "markdown",
   "metadata": {},
   "source": [
    "**14) Smoothness score**"
   ]
  },
  {
   "cell_type": "markdown",
   "metadata": {},
   "source": [
    "$$\\text{Smoothness\\_Score} \\geq \\sum_{w \\in \\text{Workers}} \\left( \\text{Max\\_Workhours} - \\text{Worker\\_Actual\\_Time}_{w} \\right)$$"
   ]
  },
  {
   "cell_type": "code",
   "execution_count": null,
   "metadata": {
    "ExecuteTime": {
     "end_time": "2025-02-28T10:38:22.096054Z",
     "start_time": "2025-02-28T10:38:22.084002Z"
    }
   },
   "outputs": [],
   "source": [
    "m.addConstr(\n",
    "    (Worker_Deviation >= quicksum(Max_Workhours_Var - Worker_actual_time_Var[worker] for worker in range(WorkerCount))),\n",
    "    name=\"WorkerDeviationCon\",\n",
    ")"
   ]
  },
  {
   "cell_type": "markdown",
   "metadata": {},
   "source": [
    "**15,16,17) Symmetry breaking constraints**"
   ]
  },
  {
   "cell_type": "code",
   "execution_count": null,
   "metadata": {},
   "outputs": [],
   "source": [
    "m.addConstr(\n",
    "    symBreak_Op_at_Station\n",
    "    >= quicksum(\n",
    "        (Op_at_Station[i, k] * k * (0.1 ** (i + 1)) for k in range(StationsLength) for i in range(OperationsLength))\n",
    "    ),\n",
    "    name=\"symBreak_Op_at_StationCon\",\n",
    ")\n",
    "m.addConstr(\n",
    "    symBreak_Worker_at_Op\n",
    "    >= quicksum(\n",
    "        (\n",
    "            Worker_at_Op[worker, op] * op * (0.1 ** (worker + 1))\n",
    "            for op in range(OperationsLength)\n",
    "            for worker in range(WorkerCount)\n",
    "        )\n",
    "    ),\n",
    "    name=\"symBreak_Worker_at_OpCon\",\n",
    ")\n",
    "m.addConstr(\n",
    "    symBreak_Worker_at_Station\n",
    "    >= quicksum(\n",
    "        (\n",
    "            Worker_at_Station[worker, station] * station * (0.1 ** (worker + 1))\n",
    "            for station in range(StationsLength)\n",
    "            for worker in range(WorkerCount)\n",
    "        )\n",
    "    ),\n",
    "    name=\"symBreak_Worker_at_StationCon\",\n",
    ")"
   ]
  },
  {
   "attachments": {},
   "cell_type": "markdown",
   "metadata": {},
   "source": [
    "### Solve and display results\n",
    "---"
   ]
  },
  {
   "attachments": {},
   "cell_type": "markdown",
   "metadata": {},
   "source": [
    "Get the whole model m displayed."
   ]
  },
  {
   "cell_type": "code",
   "execution_count": null,
   "metadata": {
    "ExecuteTime": {
     "end_time": "2025-02-28T10:38:22.157281Z",
     "start_time": "2025-02-28T10:38:22.149263Z"
    }
   },
   "outputs": [],
   "source": [
    "m.update()\n",
    "m"
   ]
  },
  {
   "attachments": {},
   "cell_type": "markdown",
   "metadata": {},
   "source": [
    "Run the model m."
   ]
  },
  {
   "cell_type": "code",
   "execution_count": null,
   "metadata": {
    "ExecuteTime": {
     "end_time": "2025-02-28T10:38:32.463195Z",
     "start_time": "2025-02-28T10:38:22.237688Z"
    }
   },
   "outputs": [],
   "source": [
    "m.setParam(\"TimeLimit\", 120)\n",
    "m.setParam(\"MIPFocus\", 3)\n",
    "m.setParam(\"MIPgap\", 0.01)\n",
    "\n",
    "m.optimize()"
   ]
  },
  {
   "attachments": {},
   "cell_type": "markdown",
   "metadata": {},
   "source": [
    "### Get the results displayed.\n",
    "\n",
    "Print out the objective value C as well as the termination status and the primal status. Used for debugging and quick overview of the results.  \n",
    "**For complete visualization, look at `alb-2-visualization.ipynb`** "
   ]
  },
  {
   "cell_type": "code",
   "execution_count": null,
   "metadata": {
    "ExecuteTime": {
     "end_time": "2025-02-28T10:38:32.858585Z",
     "start_time": "2025-02-28T10:38:32.836492Z"
    }
   },
   "outputs": [],
   "source": [
    "# Print results\n",
    "if m.status == GRB.OPTIMAL or m.status == GRB.TIME_LIMIT:\n",
    "    print(\"Objective value: \", m.objVal)\n",
    "    print(\"Cycle Time C: \", Cycle_Time.x)\n",
    "    print(\"Solution:\")\n",
    "    for operation in range(OperationsLength):\n",
    "        for station in range(StationsLength):\n",
    "            if Op_at_Station[operation, station].x > 0.5:\n",
    "                print(\"Operation \", operation + 1, \" is assigned to station \", station + 1)\n",
    "else:\n",
    "    print(\"No solution found\")\n",
    "    if m.status == GRB.INFEASIBLE:\n",
    "        print(\"Model is infeasible\")\n",
    "        m.computeIIS()\n",
    "        m.write(\"model.ilp\")\n",
    "        # Print the constraints that are causing the infeasibility\n",
    "        for c in m.getConstrs():\n",
    "            if c.IISConstr:\n",
    "                print(f\"Infeasible constraint: {c.constrName}\")\n",
    "    elif m.status == GRB.UNBOUNDED:\n",
    "        print(\"Model is unbounded\")\n",
    "    elif m.status == GRB.INF_OR_UNBD:\n",
    "        print(\"Model is infeasible or unbounded\")\n",
    "    else:\n",
    "        print(\"Optimization was stopped with status\", m.status)\n",
    "\n",
    "m.printStats()\n",
    "for w, op in Worker_at_Op:\n",
    "    if Worker_at_Op[w, op].x:\n",
    "        if Individual_Worker_Multiplier[w][op] > MAX_INDIVIDUAL_MODIFIER:\n",
    "            print(\"ERROR: Bad assignment, worker cannot perform the following operation\")\n",
    "        print(\"Worker \", w + 1, \" is assigned to operation \", op + 1)\n",
    "\n",
    "for w, station in Worker_at_Station:\n",
    "    if Worker_at_Station[w, station].x:\n",
    "        print(\"Worker \", w + 1, \" is assigned to station \", station + 1)\n",
    "\n",
    "for op in range(OperationsLength):\n",
    "    print(\"Operation \", op + 1, \" has normal processing time \", op_times[op])\n",
    "\n",
    "for op in range(OperationsLength):\n",
    "    print(\"Operation \", op + 1, \" has actual processing time \", Actual_Processing_Time_per_Op[op].x)\n",
    "\n",
    "for op in range(OperationsLength):\n",
    "    print(\"Operation \", op + 1, \" has worker amount modifier \", actualAmountModifierOp[op].x)"
   ]
  },
  {
   "attachments": {},
   "cell_type": "markdown",
   "metadata": {},
   "source": [
    "**Worker time, grouped by stations**"
   ]
  },
  {
   "cell_type": "code",
   "execution_count": null,
   "metadata": {
    "ExecuteTime": {
     "end_time": "2025-02-28T10:38:33.117809Z",
     "start_time": "2025-02-28T10:38:32.913689Z"
    }
   },
   "outputs": [],
   "source": [
    "fig, axs = plt.subplots(1, 1, figsize=(10, 8))\n",
    "\n",
    "bar_width = 0.05\n",
    "bar_gap = 0.08\n",
    "group_gap = -0.4\n",
    "\n",
    "group_multiplier = 0\n",
    "stations_x_ticks = []\n",
    "total_sum_workers = []\n",
    "colors = plt.get_cmap(\"tab20c\").colors\n",
    "color_index = 0\n",
    "\n",
    "for station in range(StationsLength):\n",
    "    workers_sum = []\n",
    "    worker_labels = []\n",
    "    bar_positions = []\n",
    "    for worker in range(WorkerCount):\n",
    "        worker_station_sum = 0\n",
    "        if Worker_at_Station[worker, station].x:\n",
    "            for op in range(OperationsLength):\n",
    "                worker_station_sum += Worker_at_Op[worker, op].x * Actual_Processing_Time_per_Op[op].x\n",
    "            workers_sum.append(worker_station_sum)\n",
    "            worker_labels.append(f\"W {worker + 1}\")\n",
    "    for operation in range(len(workers_sum)):\n",
    "        bar_positions.append(\n",
    "            group_multiplier * group_gap + station + (operation - (len(workers_sum) - 1) / 2) * bar_gap\n",
    "        )\n",
    "        total_sum_workers.append(workers_sum[operation])\n",
    "\n",
    "    stations_x_ticks.append(group_multiplier * group_gap + station)\n",
    "    group_multiplier += 1\n",
    "\n",
    "    bars = axs.bar(\n",
    "        bar_positions, workers_sum, bar_width, label=f\"Station {station + 1}\", color=colors[color_index % len(colors)]\n",
    "    )\n",
    "    color_index += 1\n",
    "    axs.bar_label(bars, labels=worker_labels, label_type=\"edge\")\n",
    "\n",
    "# Plot average time per worker as an hline\n",
    "average_time = np.average(total_sum_workers)\n",
    "axs.axhline(y=average_time, color=\"#af2020\", linestyle=\"dotted\", label=f\"Average Worker Time (t={average_time:.2f})\")\n",
    "\n",
    "axs.set_xticks(stations_x_ticks)\n",
    "axs.set_xticklabels([f\"Station {i + 1}\" for i in range(StationsLength)])\n",
    "\n",
    "axs.set_title(\"Individual Worker Time per Station\")\n",
    "axs.set_xlabel(\"Stations\")\n",
    "axs.set_ylabel(\"Processing Time\")\n",
    "axs.legend(bbox_to_anchor=(1, 1))\n",
    "\n",
    "plt.show()\n"
   ]
  },
  {
   "cell_type": "markdown",
   "metadata": {},
   "source": [
    "**Time per station and operation**"
   ]
  },
  {
   "cell_type": "code",
   "execution_count": null,
   "metadata": {
    "ExecuteTime": {
     "end_time": "2025-02-28T10:38:33.394204Z",
     "start_time": "2025-02-28T10:38:33.154465Z"
    }
   },
   "outputs": [],
   "source": [
    "fig, axs = plt.subplots(1, 1, figsize=(10, 8))\n",
    "\n",
    "# Stacked bar chart for visualizing the time at each station, this will nicely show the cycle time\n",
    "colors = plt.get_cmap(\"tab20c\").colors\n",
    "color_index = 0\n",
    "\n",
    "for station in range(0, StationsLength):\n",
    "    station_sum = 0\n",
    "    for operation in range(0, OperationsLength):\n",
    "        if Op_at_Station[operation, station].x:\n",
    "            bar = axs.bar(\n",
    "                station + 1,\n",
    "                Actual_Processing_Time_per_Op[operation].x,\n",
    "                bottom=station_sum,\n",
    "                label=f\"Operation {operation + 1}\",\n",
    "                edgecolor=\"black\",\n",
    "                color=colors[color_index % len(colors)],\n",
    "            )\n",
    "            axs.bar_label(bar)\n",
    "            station_sum += Actual_Processing_Time_per_Op[operation].x\n",
    "            color_index += 1\n",
    "\n",
    "\n",
    "# Draw horizontal line at cycle time\n",
    "axs.axhline(y=Cycle_Time.x, color=\"g\", linestyle=\"--\", label=f\"Cycle Time (t={Cycle_Time.x:.2f})\")\n",
    "\n",
    "# Place legend outside of plot\n",
    "# Sort the legend labels alphabetically, credit: https://stackoverflow.com/a/27512450/5541326\n",
    "handles, labels = axs.get_legend_handles_labels()\n",
    "# sort both labels and handles by labels\n",
    "labels, handles = zip(*sorted(zip(labels, handles), key=lambda t: t[0]))\n",
    "axs.legend(handles, labels, bbox_to_anchor=(1, 1), loc=\"upper left\")\n",
    "\n",
    "axs.set_xticks(range(1, StationsLength + 1))\n",
    "axs.set_xlabel(\"Stations\")\n",
    "axs.set_ylabel(\"Total Time\")\n",
    "axs.set_title(\"Operations performed at station with cumulative processing time\")\n",
    "\n",
    "plt.show()\n"
   ]
  },
  {
   "cell_type": "markdown",
   "metadata": {},
   "source": [
    "**Time per station with assigned workers**"
   ]
  },
  {
   "cell_type": "code",
   "execution_count": null,
   "metadata": {
    "ExecuteTime": {
     "end_time": "2025-02-28T10:38:33.490167Z",
     "start_time": "2025-02-28T10:38:33.410497Z"
    }
   },
   "outputs": [],
   "source": [
    "fig, axs = plt.subplots(1, 1, figsize=(12, 4))\n",
    "\n",
    "# Horizontal bar chart for visualizing the number of workers at each station\n",
    "colors = plt.get_cmap(\"tab20c\").colors\n",
    "color_index = 0\n",
    "max_workers = 0\n",
    "\n",
    "for station in range(0, StationsLength):\n",
    "    workers = 0\n",
    "    for operation in range(0, WorkerCount):\n",
    "        if Worker_at_Station[operation, station].x:\n",
    "            workers += 1\n",
    "    bar = axs.barh(\n",
    "        station + 1, workers, height=0.3, label=f\"Station {station + 1}\", color=colors[color_index % len(colors)]\n",
    "    )\n",
    "    if max_workers < workers:\n",
    "        max_workers = workers\n",
    "    color_index += 1\n",
    "\n",
    "axs.set_yticks(range(1, StationsLength + 1))\n",
    "axs.set_yticklabels([f\"Station {i + 1}\" for i in range(StationsLength)])\n",
    "axs.set_ylabel(\"Stations\")\n",
    "axs.set_xlabel(\"Number of Workers\")\n",
    "axs.set_xticks(range(0, max_workers + 1))\n",
    "axs.set_title(\"Number of Workers per Station\")\n",
    "\n",
    "plt.show()\n"
   ]
  },
  {
   "cell_type": "markdown",
   "metadata": {},
   "source": [
    "**Number of tasks per worker**"
   ]
  },
  {
   "cell_type": "code",
   "execution_count": null,
   "metadata": {
    "ExecuteTime": {
     "end_time": "2025-02-28T10:38:33.595867Z",
     "start_time": "2025-02-28T10:38:33.505267Z"
    }
   },
   "outputs": [],
   "source": [
    "fig, axs = plt.subplots(1, 1, figsize=(12, 4))\n",
    "\n",
    "# Horizontal bar chart for visualizing the number of tasks for each worker\n",
    "colors = plt.get_cmap(\"tab20c\").colors\n",
    "color_index = 0\n",
    "\n",
    "max_tasks = 0\n",
    "\n",
    "for worker in range(0, WorkerCount):\n",
    "    tasks = 0\n",
    "    for operation in range(0, OperationsLength):\n",
    "        if Worker_at_Op[worker, operation].x:\n",
    "            tasks += 1\n",
    "    bar = axs.barh(worker + 1, tasks, height=0.3, label=f\"Worker {worker + 1}\", color=colors[color_index % len(colors)])\n",
    "    if max_tasks < tasks:\n",
    "        max_tasks = tasks\n",
    "    color_index += 1\n",
    "\n",
    "axs.set_yticks(range(1, WorkerCount + 1))\n",
    "axs.set_yticklabels([f\"Worker {i + 1}\" for i in range(WorkerCount)])\n",
    "axs.set_ylabel(\"Workers\")\n",
    "axs.set_xlabel(\"Number of Tasks\")\n",
    "axs.set_xticks(range(0, max_tasks + 1))\n",
    "axs.set_title(\"Number of Tasks per Worker\")\n",
    "\n",
    "plt.show()"
   ]
  },
  {
   "cell_type": "markdown",
   "metadata": {},
   "source": [
    "# Pareto front"
   ]
  },
  {
   "cell_type": "code",
   "execution_count": null,
   "metadata": {
    "ExecuteTime": {
     "end_time": "2025-02-28T10:48:15.838257Z",
     "start_time": "2025-02-28T10:38:33.622524Z"
    }
   },
   "outputs": [],
   "source": [
    "def create_pareto_front(primary_obj_selection, steps, resolution_factor=1_000, output_file=None, time_limit=600):\n",
    "    model_output = {\n",
    "        \"Cycle_Time\": [],\n",
    "        \"Fairness\": [],\n",
    "        \"symBreak_Op_at_Station\": [],\n",
    "        \"symBreak_Worker_at_Op\": [],\n",
    "        \"symBreak_Worker_at_Station\": [],\n",
    "        \"Max_Workhours_Var\": [],\n",
    "        \"Op_at_Station\": [],\n",
    "        \"Worker_at_Operation\": [],\n",
    "        \"Worker_at_Station\": [],\n",
    "        \"Actual_Processing_Time_per_Op\": [],\n",
    "        \"Worker_actual_time_Var\": [],\n",
    "        \"Worker_Deviation\": [],\n",
    "        \"Actual_Amount_Modifier_Op\": [],\n",
    "        \"Theoretical_Processing_Time_per_Op\": [],\n",
    "    }\n",
    "    m.setParam(\"OutputFlag\", 0) \n",
    "    m.setParam(\"TimeLimit\", time_limit)\n",
    "    # Default file path\n",
    "    if output_file is None:\n",
    "        from datetime import datetime\n",
    "\n",
    "        timestamp = datetime.now().strftime(\"%Y%m%d_%H%M%S\")\n",
    "        output_file = f\"{steps}_steps_pareto_front_{primary_obj_selection}_{timestamp}.json\"\n",
    "\n",
    "    cycle_time_obj = Cycle_Time + symBreak_Op_at_Station + symBreak_Worker_at_Op + symBreak_Worker_at_Station\n",
    "    fairness_obj = Worker_Deviation + symBreak_Op_at_Station + symBreak_Worker_at_Op + symBreak_Worker_at_Station\n",
    "    # set upper bound for symBreaks in testing symbreaks where always close to 0\n",
    "    bound = 10\n",
    "    symBreak_Op_at_Station.UB = bound\n",
    "    symBreak_Worker_at_Op.UB = bound\n",
    "    symBreak_Worker_at_Station.UB = bound\n",
    "    if primary_obj_selection == \"Cycle_Time\":\n",
    "        secondary_objective = fairness_obj\n",
    "        primary_objective = cycle_time_obj\n",
    "    elif primary_obj_selection == \"Fairness\":\n",
    "        secondary_objective = cycle_time_obj\n",
    "        primary_objective = fairness_obj\n",
    "        Cycle_Time.UB = sum(op_times)\n",
    "    # LB\n",
    "    m.setObjective(secondary_objective, GRB.MINIMIZE)\n",
    "    m.optimize()\n",
    "    # UB\n",
    "    if primary_obj_selection == \"Cycle_Time\":\n",
    "        secondary_obj_min = Worker_Deviation.X if m.status == GRB.OPTIMAL or m.status == GRB.TIME_LIMIT else None\n",
    "        m.setObjective(Cycle_Time, GRB.MINIMIZE)\n",
    "        m.optimize()\n",
    "        secondary_obj_max = Worker_Deviation.X if m.status == GRB.OPTIMAL or m.status == GRB.TIME_LIMIT else None\n",
    "    elif primary_obj_selection == \"Fairness\":\n",
    "        secondary_obj_min = Cycle_Time.X if m.status == GRB.OPTIMAL or m.status == GRB.TIME_LIMIT else None\n",
    "        m.setObjective(Worker_Deviation, GRB.MINIMIZE)\n",
    "        m.optimize()\n",
    "        secondary_obj_max = Cycle_Time.X if m.status == GRB.OPTIMAL or m.status == GRB.TIME_LIMIT else None\n",
    "    if secondary_obj_min is None:\n",
    "        raise RuntimeError(\"Could not find minimum value of secondary objective\")\n",
    "    if secondary_obj_max is None:\n",
    "        raise RuntimeError(\"Could not find maximum value of secondary objective\")\n",
    "    epsilon_values = (\n",
    "        secondary_obj_min\n",
    "        + (secondary_obj_max - secondary_obj_min)\n",
    "        * (np.logspace(0, 1, steps, base=resolution_factor) - 1)\n",
    "        / (resolution_factor - 1)\n",
    "    ).tolist()\n",
    "    # useless in most cases but very high resolution factor / base can lead to extreme values-> floating point errors so this ensures that the last value is the actual max value\n",
    "    epsilon_values = epsilon_values[:-1] + [secondary_obj_max]\n",
    "    # initialize worst found with infinity\n",
    "    if primary_obj_selection == \"Cycle_Time\":\n",
    "        worst_cycle_time = np.inf\n",
    "    elif primary_obj_selection == \"Fairness\":\n",
    "        worst_worker_deviation = np.inf\n",
    "\n",
    "    pareto_front = []\n",
    "    current_step = 0\n",
    "    model_output[\"secondary_obj_min\"] = secondary_obj_min\n",
    "    model_output[\"secondary_obj_max\"] = secondary_obj_max\n",
    "    model_output[\"worker_bounds\"] = worker_bounds\n",
    "    model_output[\"worker_availability\"] = worker_availability\n",
    "    model_output[\"worker_modifiers\"] = worker_modifiers\n",
    "    model_output[\"individual_worker_multiplier\"] = Individual_Worker_Multiplier\n",
    "    model_output[\"worker_amount_modifiers\"] = worker_amount_modifiers\n",
    "    model_output[\"station_capacity\"] = station_capacity\n",
    "    model_output[\"precedence_relations\"] = PrecRelations\n",
    "    model_output[\"station_count\"] = StationsLength\n",
    "    model_output[\"task_count\"] = OperationsLength\n",
    "    model_output[\"task_times\"] = op_times\n",
    "    model_output[\"worker_count\"] = WorkerCount\n",
    "    model_output[\"model_name\"] = file_path\n",
    "    model_output[\"nr_steps\"] = steps\n",
    "    model_output[\"max_amount_modifier\"] = MAX_AMOUNT_MODIFIER\n",
    "    model_output[\"max_individual_modifier\"] = MAX_INDIVIDUAL_MODIFIER\n",
    "    for epsilon in epsilon_values:\n",
    "        m.setObjective(primary_objective, GRB.MINIMIZE)\n",
    "        \n",
    "        if primary_obj_selection == \"Cycle_Time\":\n",
    "            Cycle_Time.UB = worst_cycle_time\n",
    "            Worker_Deviation.UB = epsilon\n",
    "        elif primary_obj_selection == \"Fairness\":\n",
    "            Cycle_Time.UB = epsilon\n",
    "            Worker_Deviation.UB = worst_worker_deviation\n",
    "\n",
    "        m.optimize()\n",
    "        if m.status == GRB.OPTIMAL or m.status == GRB.TIME_LIMIT:\n",
    "            pareto_front.append((Cycle_Time.X, Worker_Deviation.X, epsilon, current_step))\n",
    "            model_output[\"Cycle_Time\"].append(Cycle_Time.X)\n",
    "            model_output[\"Fairness\"].append(Worker_Deviation.X)\n",
    "            model_output[\"symBreak_Op_at_Station\"].append(symBreak_Op_at_Station.X)\n",
    "            model_output[\"symBreak_Worker_at_Op\"].append(symBreak_Worker_at_Op.X)\n",
    "            model_output[\"symBreak_Worker_at_Station\"].append(symBreak_Worker_at_Station.X)\n",
    "            model_output[\"Max_Workhours_Var\"].append(Max_Workhours_Var.X)\n",
    "            model_output[\"Op_at_Station\"].append({str(k): v for k, v in m.getAttr(\"X\", Op_at_Station).items()})\n",
    "            model_output[\"Worker_at_Operation\"].append({str(k): v for k, v in m.getAttr(\"X\", Worker_at_Op).items()})\n",
    "            model_output[\"Worker_at_Station\"].append({str(k): v for k, v in m.getAttr(\"X\", Worker_at_Station).items()})\n",
    "            model_output[\"Actual_Processing_Time_per_Op\"].append(\n",
    "                {str(k): v for k, v in m.getAttr(\"X\", Actual_Processing_Time_per_Op).items()}\n",
    "            )\n",
    "            model_output[\"Theoretical_Processing_Time_per_Op\"].append(\n",
    "                {str(k): v for k, v in m.getAttr(\"X\", Theoretical_Processing_Time_per_Op).items()}\n",
    "            )\n",
    "            model_output[\"Worker_actual_time_Var\"].append(\n",
    "                {str(k): v for k, v in m.getAttr(\"X\", Worker_actual_time_Var).items()}\n",
    "            )\n",
    "            model_output[\"Worker_Deviation\"].append(Worker_Deviation.X)\n",
    "            model_output[\"Actual_Amount_Modifier_Op\"].append(\n",
    "                {str(k): v for k, v in m.getAttr(\"X\", actualAmountModifierOp).items()}\n",
    "            )\n",
    "            worst_worker_deviation = Worker_Deviation.X\n",
    "            worst_cycle_time = Cycle_Time.X\n",
    "        else:\n",
    "            pareto_front.append((None, None, epsilon, current_step))\n",
    "        print(\"--------------------------------------------------------------------------------\")\n",
    "        print(f\"step: {current_step}\")\n",
    "        print(f\"Cycle Time: {model_output['Cycle_Time'][-1]}\")\n",
    "        print(f\"fairness: {model_output['Fairness'][-1]}\")\n",
    "        print(f\"New fairness must be smaller than epsilon: {epsilon}\")\n",
    "        print(\n",
    "            f\"Status: {m.status} ({'optimal' if m.status == GRB.OPTIMAL else 'time limit' if m.status == GRB.TIME_LIMIT else 'other'})\"\n",
    "        )\n",
    "        print(\"--------------------------------------------------------------------------------\")\n",
    "        current_step += 1\n",
    "\n",
    "    model_output[\"pareto_front\"] = pareto_front\n",
    "\n",
    "    try:\n",
    "        if not os.path.exists(\"output\"):\n",
    "            os.makedirs(\"output\")\n",
    "        with open(\"output/\" + output_file, \"w\") as f:\n",
    "            json.dump(model_output, f)\n",
    "        print(f\"Results saved to {output_file}\")\n",
    "    except Exception as e:\n",
    "        print(f\"Error saving results: {e}\")\n",
    "\n",
    "    return pareto_front, model_output\n",
    "\n",
    "\n",
    "pareto_front, m_out = create_pareto_front(\"Cycle_Time\", 10, time_limit=120)\n"
   ]
  },
  {
   "cell_type": "markdown",
   "metadata": {},
   "source": [
    "# Vizualization of the results\n",
    "For each step in the pareto front, get the results. Useful for debugging and checking the results.  \n",
    "**For complete visualization, look at `alb-2-visualization.ipynb`** "
   ]
  },
  {
   "cell_type": "code",
   "execution_count": null,
   "metadata": {
    "ExecuteTime": {
     "end_time": "2025-02-28T10:48:18.125260Z",
     "start_time": "2025-02-28T10:48:18.122103Z"
    }
   },
   "outputs": [],
   "source": [
    "# Draw graph at which step-> (keep in mind different steps/epsilon constraints often result in the same point)\n",
    "pstep = 1"
   ]
  },
  {
   "cell_type": "code",
   "execution_count": null,
   "metadata": {
    "ExecuteTime": {
     "end_time": "2025-02-28T10:48:18.182176Z",
     "start_time": "2025-02-28T10:48:18.172595Z"
    }
   },
   "outputs": [],
   "source": [
    "# Print results\n",
    "print(\"Cycle Time C: \", m_out[\"Cycle_Time\"][pstep])\n",
    "print(\"Fairness: \", m_out[\"Worker_Deviation\"][pstep])\n",
    "print(\"Solution:\")\n",
    "for operation in range(OperationsLength):\n",
    "    for station in range(StationsLength):\n",
    "        converted_op_at_station = {eval(k): v for k, v in m_out[\"Op_at_Station\"][pstep].items()}\n",
    "        if converted_op_at_station[operation, station] > 0.5:\n",
    "            print(\"Operation \", operation + 1, \" is assigned to station \", station + 1)\n",
    "\n",
    "converted_worker_at_op = {eval(k): v for k, v in m_out[\"Worker_at_Operation\"][pstep].items()}\n",
    "for w, op in converted_worker_at_op:\n",
    "    if converted_worker_at_op[w, op]:\n",
    "        if Individual_Worker_Multiplier[w][op] > 5:\n",
    "            print(\"ERROR: Bad assignment, worker cannot perform the following operation\")\n",
    "        print(\"Worker \", w + 1, \" is assigned to operation \", op + 1)\n",
    "\n",
    "converted_worker_at_station = {eval(k): v for k, v in m_out[\"Worker_at_Station\"][pstep].items()}\n",
    "for w, station in converted_worker_at_station:\n",
    "    if converted_worker_at_station[w, station]:\n",
    "        print(\"Worker \", w + 1, \" is assigned to station \", station + 1)\n",
    "\n",
    "for op in range(OperationsLength):\n",
    "    print(\"Operation \", op + 1, \" has normal processing time \", op_times[op])\n",
    "\n",
    "converted_actual_processing_time_per_op = {eval(k): v for k, v in m_out[\"Actual_Processing_Time_per_Op\"][pstep].items()}\n",
    "for op in range(OperationsLength):\n",
    "    print(\"Operation \", op + 1, \" has actual processing time \", converted_actual_processing_time_per_op[op])\n",
    "\n",
    "converted_actual_amount_modifier_op = {eval(k): v for k, v in m_out[\"Actual_Amount_Modifier_Op\"][pstep].items()}\n",
    "for op in range(OperationsLength):\n",
    "    print(\"Operation \", op + 1, \" has worker amount modifier \", converted_actual_amount_modifier_op[op])"
   ]
  },
  {
   "cell_type": "markdown",
   "metadata": {},
   "source": [
    "**Worker time, grouped by stations**"
   ]
  },
  {
   "cell_type": "code",
   "execution_count": null,
   "metadata": {
    "ExecuteTime": {
     "end_time": "2025-02-28T10:48:18.475069Z",
     "start_time": "2025-02-28T10:48:18.249107Z"
    }
   },
   "outputs": [],
   "source": [
    "fig, axs = plt.subplots(1, 1, figsize=(10, 8))\n",
    "\n",
    "# Stacked bar chart for visualizing the time at each station, this will nicely show the cycle time\n",
    "colors = plt.get_cmap(\"tab20c\").colors\n",
    "color_index = 0\n",
    "\n",
    "for station in range(0, StationsLength):\n",
    "    station_sum = 0\n",
    "    for operation in range(0, OperationsLength):\n",
    "        if converted_op_at_station[operation, station]:\n",
    "            bar = axs.bar(\n",
    "                station + 1,\n",
    "                converted_actual_processing_time_per_op[operation],\n",
    "                bottom=station_sum,\n",
    "                label=f\"Operation {operation + 1}\",\n",
    "                edgecolor=\"black\",\n",
    "                color=colors[color_index % len(colors)],\n",
    "            )\n",
    "            axs.bar_label(bar)\n",
    "            station_sum += converted_actual_processing_time_per_op[operation]\n",
    "            color_index += 1\n",
    "\n",
    "\n",
    "# Draw horizontal line at cycle time\n",
    "axs.axhline(\n",
    "    y=m_out[\"Cycle_Time\"][pstep],\n",
    "    color=\"g\",\n",
    "    linestyle=\"--\",\n",
    "    label=f\"Cycle Time (t={m_out['Cycle_Time'][pstep]:.2f})\",\n",
    ")\n",
    "\n",
    "# Place legend outside of plot\n",
    "# Sort the legend labels alphabetically, credit: https://stackoverflow.com/a/27512450/5541326\n",
    "handles, labels = axs.get_legend_handles_labels()\n",
    "# sort both labels and handles by labels\n",
    "labels, handles = zip(*sorted(zip(labels, handles), key=lambda t: t[0]))\n",
    "axs.legend(handles, labels, bbox_to_anchor=(1, 1), loc=\"upper left\")\n",
    "\n",
    "axs.set_xticks(range(1, StationsLength + 1))\n",
    "axs.set_xlabel(\"Stations\")\n",
    "axs.set_ylabel(\"Total Time\")\n",
    "axs.set_title(\"Operations performed at station with cumulative processing time\")\n",
    "\n",
    "plt.show()\n"
   ]
  },
  {
   "cell_type": "markdown",
   "metadata": {},
   "source": [
    "**Time per station and operation**"
   ]
  },
  {
   "cell_type": "code",
   "execution_count": null,
   "metadata": {
    "ExecuteTime": {
     "end_time": "2025-02-28T10:48:18.658622Z",
     "start_time": "2025-02-28T10:48:18.487789Z"
    }
   },
   "outputs": [],
   "source": [
    "fig, axs = plt.subplots(1, 1, figsize=(10, 8))\n",
    "\n",
    "bar_width = 0.05\n",
    "bar_gap = 0.08\n",
    "group_gap = -0.4\n",
    "\n",
    "group_multiplier = 0\n",
    "stations_x_ticks = []\n",
    "total_sum_workers = []\n",
    "colors = plt.get_cmap(\"tab20c\").colors\n",
    "color_index = 0\n",
    "\n",
    "for station in range(StationsLength):\n",
    "    workers_sum = []\n",
    "    worker_labels = []\n",
    "    bar_positions = []\n",
    "    for worker in range(WorkerCount):\n",
    "        worker_station_sum = 0\n",
    "        if converted_worker_at_station[worker, station]:\n",
    "            for op in range(OperationsLength):\n",
    "                worker_station_sum += converted_worker_at_op[worker, op] * converted_actual_processing_time_per_op[op]\n",
    "            workers_sum.append(worker_station_sum)\n",
    "            worker_labels.append(f\"W {worker + 1}\")\n",
    "    for operation in range(len(workers_sum)):\n",
    "        bar_positions.append(\n",
    "            group_multiplier * group_gap + station + (operation - (len(workers_sum) - 1) / 2) * bar_gap\n",
    "        )\n",
    "        total_sum_workers.append(workers_sum[operation])\n",
    "\n",
    "    stations_x_ticks.append(group_multiplier * group_gap + station)\n",
    "    group_multiplier += 1\n",
    "\n",
    "    bars = axs.bar(\n",
    "        bar_positions,\n",
    "        workers_sum,\n",
    "        bar_width,\n",
    "        label=f\"Station {station + 1}\",\n",
    "        color=colors[color_index % len(colors)],\n",
    "    )\n",
    "    color_index += 1\n",
    "    axs.bar_label(bars, labels=worker_labels, label_type=\"edge\")\n",
    "\n",
    "# Plot average time per worker as an hline\n",
    "average_time = np.average(total_sum_workers)\n",
    "axs.axhline(\n",
    "    y=average_time,\n",
    "    color=\"#af2020\",\n",
    "    linestyle=\"dotted\",\n",
    "    label=f\"Average Worker Time (t={average_time:.2f})\",\n",
    ")\n",
    "\n",
    "axs.set_xticks(stations_x_ticks)\n",
    "axs.set_xticklabels([f\"Station {i + 1}\" for i in range(StationsLength)])\n",
    "\n",
    "axs.set_title(\"Individual Worker Time per Station\")\n",
    "axs.set_xlabel(\"Stations\")\n",
    "axs.set_ylabel(\"Processing Time\")\n",
    "axs.legend(bbox_to_anchor=(1, 1))\n",
    "\n",
    "plt.show()\n"
   ]
  },
  {
   "cell_type": "markdown",
   "metadata": {},
   "source": [
    "**Time per station with assigned workers**"
   ]
  },
  {
   "cell_type": "code",
   "execution_count": null,
   "metadata": {
    "ExecuteTime": {
     "end_time": "2025-02-28T10:48:18.759320Z",
     "start_time": "2025-02-28T10:48:18.675314Z"
    }
   },
   "outputs": [],
   "source": [
    "fig, axs = plt.subplots(1, 1, figsize=(12, 4))\n",
    "\n",
    "# Horizontal bar chart for visualizing the number of workers at each station\n",
    "colors = plt.get_cmap(\"tab20c\").colors\n",
    "color_index = 0\n",
    "max_workers = 0\n",
    "\n",
    "for station in range(0, StationsLength):\n",
    "    workers = 0\n",
    "    for operation in range(0, WorkerCount):\n",
    "        if converted_worker_at_station[operation, station]:\n",
    "            workers += 1\n",
    "    bar = axs.barh(\n",
    "        station + 1,\n",
    "        workers,\n",
    "        height=0.3,\n",
    "        label=f\"Station {station + 1}\",\n",
    "        color=colors[color_index % len(colors)],\n",
    "    )\n",
    "    if max_workers < workers:\n",
    "        max_workers = workers\n",
    "    color_index += 1\n",
    "\n",
    "axs.set_yticks(range(1, StationsLength + 1))\n",
    "axs.set_yticklabels([f\"Station {i + 1}\" for i in range(StationsLength)])\n",
    "axs.set_ylabel(\"Stations\")\n",
    "axs.set_xlabel(\"Number of Workers\")\n",
    "axs.set_xticks(range(0, max_workers + 1))\n",
    "axs.set_title(\"Number of Workers per Station\")\n",
    "\n",
    "plt.show()\n"
   ]
  },
  {
   "cell_type": "markdown",
   "metadata": {},
   "source": [
    "**Number of tasks per worker**"
   ]
  },
  {
   "cell_type": "code",
   "execution_count": null,
   "metadata": {
    "ExecuteTime": {
     "end_time": "2025-02-28T10:48:18.874655Z",
     "start_time": "2025-02-28T10:48:18.778569Z"
    }
   },
   "outputs": [],
   "source": [
    "fig, axs = plt.subplots(1, 1, figsize=(12, 4))\n",
    "\n",
    "# Horizontal bar chart for visualizing the number of tasks for each worker\n",
    "colors = plt.get_cmap(\"tab20c\").colors\n",
    "color_index = 0\n",
    "\n",
    "max_tasks = 0\n",
    "\n",
    "for worker in range(0, WorkerCount):\n",
    "    tasks = 0\n",
    "    for operation in range(0, OperationsLength):\n",
    "        if converted_worker_at_op[worker, operation]:\n",
    "            tasks += 1\n",
    "    bar = axs.barh(\n",
    "        worker + 1,\n",
    "        tasks,\n",
    "        height=0.3,\n",
    "        label=f\"Worker {worker + 1}\",\n",
    "        color=colors[color_index % len(colors)],\n",
    "    )\n",
    "    if max_tasks < tasks:\n",
    "        max_tasks = tasks\n",
    "    color_index += 1\n",
    "\n",
    "axs.set_yticks(range(1, WorkerCount + 1))\n",
    "axs.set_yticklabels([f\"Worker {i + 1}\" for i in range(WorkerCount)])\n",
    "axs.set_ylabel(\"Workers\")\n",
    "axs.set_xlabel(\"Number of Tasks\")\n",
    "axs.set_xticks(range(0, max_tasks + 1))\n",
    "axs.set_title(\"Number of Tasks per Worker\")\n",
    "\n",
    "plt.show()"
   ]
  }
 ],
 "metadata": {
  "kernelspec": {
   "display_name": "Uni",
   "language": "python",
   "name": "python3"
  },
  "language_info": {
   "codemirror_mode": {
    "name": "ipython",
    "version": 3
   },
   "file_extension": ".py",
   "mimetype": "text/x-python",
   "name": "python",
   "nbconvert_exporter": "python",
   "pygments_lexer": "ipython3",
   "version": "3.12.9"
  }
 },
 "nbformat": 4,
 "nbformat_minor": 4
}
