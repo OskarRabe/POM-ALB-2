{
 "cells": [
  {
   "cell_type": "markdown",
   "metadata": {},
   "source": [
    "## Imports"
   ]
  },
  {
   "cell_type": "code",
   "execution_count": 41,
   "metadata": {},
   "outputs": [],
   "source": [
    "import matplotlib.pyplot as plt\n",
    "import numpy as np\n",
    "import json\n",
    "import math"
   ]
  },
  {
   "cell_type": "markdown",
   "metadata": {},
   "source": [
    "### Read result file"
   ]
  },
  {
   "cell_type": "code",
   "execution_count": 42,
   "metadata": {},
   "outputs": [],
   "source": [
    "# Read JSON\n",
    "with open(\"results_raw/OS_High_50/B_2_significantly_faster.json\") as f:\n",
    "    data = json.load(f)"
   ]
  },
  {
   "cell_type": "markdown",
   "metadata": {},
   "source": [
    "## Visualizations"
   ]
  },
  {
   "cell_type": "code",
   "execution_count": 43,
   "metadata": {},
   "outputs": [],
   "source": [
    "# Prepare data\n",
    "OperationsLength = data['task_count']\n",
    "StationsLength = data['station_count']\n",
    "op_times = data['task_times']\n",
    "WorkerCount = data['worker_count']"
   ]
  },
  {
   "cell_type": "markdown",
   "metadata": {},
   "source": [
    "### Check for invalid assignments"
   ]
  },
  {
   "cell_type": "code",
   "execution_count": 44,
   "metadata": {},
   "outputs": [],
   "source": [
    "MAX_INDIVIDUAL_MODIFIER = data['max_individual_modifier']\n",
    "for step in range(len(data[\"pareto_front\"])):\n",
    "    converted_worker_at_op = {eval(k): v for k, v in data[\"Worker_at_Operation\"][step].items()}\n",
    "    for worker in range(WorkerCount):\n",
    "        for op in range(OperationsLength):\n",
    "            if converted_worker_at_op[worker, op] * data['individual_worker_multiplier'][worker][op] > MAX_INDIVIDUAL_MODIFIER:\n",
    "                print(f\"Error in individual assignment at step {step} for worker {worker} at operation {op}\")\n",
    "\n",
    "MAX_AMOUNT_MODIFIER = data['max_amount_modifier']\n",
    "for step in range(len(data[\"pareto_front\"])):\n",
    "    converted_actual_amount_modifier_op = {eval(k): v for k, v in data[\"Actual_Amount_Modifier_Op\"][step].items()}\n",
    "    for op in range(OperationsLength):\n",
    "        if converted_actual_amount_modifier_op[op] > MAX_AMOUNT_MODIFIER:\n",
    "            print(f\"Error in amount modifier at step {step} for operation {op}\")"
   ]
  },
  {
   "cell_type": "markdown",
   "metadata": {},
   "source": [
    "#### Paretofront graph\n",
    "u can zoom in on your own using plotly"
   ]
  },
  {
   "cell_type": "code",
   "execution_count": 45,
   "metadata": {},
   "outputs": [
    {
     "data": {
      "application/vnd.plotly.v1+json": {
       "config": {
        "plotlyServerURL": "https://plot.ly"
       },
       "data": [
        {
         "hovertemplate": "Primary Objective: %{x:.2f}<br>Secondary Objective: %{y:.2f}<br>Epsilon value (step): %{text}",
         "marker": {
          "color": "#636EFA",
          "opacity": 1,
          "size": [
           8,
           8,
           12,
           8,
           8
          ],
          "symbol": [
           "circle",
           "circle",
           "diamond",
           "circle",
           "circle"
          ]
         },
         "mode": "markers+lines",
         "name": "Scenario A",
         "text": [
          "ε: 26.50 (step 1, original step [1-based] 1)",
          "ε: 28.06 (step 2, original step [1-based] 19)",
          "ε: 36.93 (step 3, original step [1-based] 32)",
          "ε: 42.49 (step 4, original step [1-based] 35)",
          "ε: 54.71 (step 5, original step [1-based] 39)"
         ],
         "type": "scatter",
         "x": [
          831.7599994975046,
          734.78,
          598.979991783985,
          596.9800000000001,
          482.77999244730637
         ],
         "y": [
          26.5,
          28.056638352854673,
          36.93149918574752,
          42.493174927462505,
          54.709403757492026
         ]
        },
        {
         "hovertemplate": "Primary Objective: %{x:.2f}<br>Secondary Objective: %{y:.2f}<br>Epsilon value (step): %{text}",
         "marker": {
          "color": "#EF553B",
          "opacity": 1,
          "size": [
           8,
           8,
           8,
           12,
           8,
           8,
           8,
           8
          ],
          "symbol": [
           "circle",
           "circle",
           "circle",
           "diamond",
           "circle",
           "circle",
           "circle",
           "circle"
          ]
         },
         "mode": "markers+lines",
         "name": "Scenario B.1",
         "text": [
          "ε: 17.33 (step 1, original step [1-based] 1)",
          "ε: 17.43 (step 2, original step [1-based] 2)",
          "ε: 18.18 (step 3, original step [1-based] 7)",
          "ε: 20.71 (step 4, original step [1-based] 14)",
          "ε: 38.51 (step 5, original step [1-based] 26)",
          "ε: 41.82 (step 6, original step [1-based] 27)",
          "ε: 55.05 (step 7, original step [1-based] 30)",
          "ε: 60.86 (step 8, original step [1-based] 31)"
         ],
         "type": "scatter",
         "x": [
          739.509444,
          568.292612505425,
          563.5806230103171,
          547.5649749999982,
          547.4692049999938,
          547.4021659999969,
          539.3479090000003,
          477.6600600016891
         ],
         "y": [
          17.329026000021713,
          17.426420823589524,
          18.184603002461103,
          20.706781074949927,
          38.51479220364439,
          41.81961456164639,
          55.050552607077385,
          60.85881301452358
         ]
        },
        {
         "hovertemplate": "Primary Objective: %{x:.2f}<br>Secondary Objective: %{y:.2f}<br>Epsilon value (step): %{text}",
         "marker": {
          "color": "#00CC96",
          "opacity": 1,
          "size": [
           8,
           8,
           8,
           8,
           8,
           8,
           8,
           8,
           8,
           8,
           8,
           8,
           8,
           8,
           12,
           8,
           8,
           8,
           8,
           8,
           8,
           8
          ],
          "symbol": [
           "circle",
           "circle",
           "circle",
           "circle",
           "circle",
           "circle",
           "circle",
           "circle",
           "circle",
           "circle",
           "circle",
           "circle",
           "circle",
           "circle",
           "diamond",
           "circle",
           "circle",
           "circle",
           "circle",
           "circle",
           "circle",
           "circle"
          ]
         },
         "mode": "markers+lines",
         "name": "Scenario B.2",
         "text": [
          "ε: 10.03 (step 1, original step [1-based] 1)",
          "ε: 10.19 (step 2, original step [1-based] 2)",
          "ε: 14.84 (step 3, original step [1-based] 13)",
          "ε: 15.73 (step 4, original step [1-based] 14)",
          "ε: 16.75 (step 5, original step [1-based] 15)",
          "ε: 17.94 (step 6, original step [1-based] 16)",
          "ε: 19.30 (step 7, original step [1-based] 17)",
          "ε: 20.87 (step 8, original step [1-based] 18)",
          "ε: 33.07 (step 9, original step [1-based] 23)",
          "ε: 36.72 (step 10, original step [1-based] 24)",
          "ε: 40.92 (step 11, original step [1-based] 25)",
          "ε: 65.15 (step 12, original step [1-based] 29)",
          "ε: 73.65 (step 13, original step [1-based] 30)",
          "ε: 107.72 (step 14, original step [1-based] 33)",
          "ε: 122.67 (step 15, original step [1-based] 34)",
          "ε: 314.04 (step 16, original step [1-based] 41)",
          "ε: 360.23 (step 17, original step [1-based] 42)",
          "ε: 545.15 (step 18, original step [1-based] 45)",
          "ε: 719.80 (step 19, original step [1-based] 47)",
          "ε: 827.42 (step 20, original step [1-based] 48)",
          "ε: 951.33 (step 21, original step [1-based] 49)",
          "ε: 1094.00 (step 22, original step [1-based] 50)"
         ],
         "type": "scatter",
         "x": [
          712.689176200596,
          649.6299289999857,
          556.7279639999665,
          549.9675105718565,
          549.9675105718565,
          549.9675105718565,
          549.9675105718565,
          505.7536140073068,
          479.23444599999,
          477.6139400012785,
          455.3952225066132,
          452.70458200938174,
          447.8241005105629,
          440.9794650000016,
          430.564904,
          426.1309735000008,
          425.2039799999999,
          400.9733819999997,
          393.41796799999895,
          389.5049999999987,
          376.4294490463249,
          359.0219982682806
         ],
         "y": [
          10.030499711057928,
          10.194771978679483,
          14.835854168421086,
          15.72763499302026,
          15.72763499302026,
          15.72763499302026,
          15.72763499302026,
          20.865215854183084,
          33.06616974388175,
          36.71793647487495,
          40.922563888353906,
          65.14557108019295,
          73.65401158665037,
          107.71776358578411,
          122.67143817682789,
          314.0376884466259,
          360.2272504509795,
          545.1483042998959,
          719.7956697849057,
          827.4151234038613,
          951.3276671787528,
          1094
         ]
        },
        {
         "hovertemplate": "Primary Objective: %{x:.2f}<br>Secondary Objective: %{y:.2f}<br>Epsilon value (step): %{text}",
         "marker": {
          "color": "#AB63FA",
          "opacity": 1,
          "size": [
           8,
           8,
           8,
           8,
           12,
           8,
           8,
           8,
           8
          ],
          "symbol": [
           "circle",
           "circle",
           "circle",
           "circle",
           "diamond",
           "circle",
           "circle",
           "circle",
           "circle"
          ]
         },
         "mode": "markers+lines",
         "name": "Scenario C",
         "text": [
          "ε: 27.95 (step 1, original step [1-based] 1)",
          "ε: 38.61 (step 2, original step [1-based] 20)",
          "ε: 53.83 (step 3, original step [1-based] 26)",
          "ε: 67.87 (step 4, original step [1-based] 29)",
          "ε: 81.12 (step 5, original step [1-based] 31)",
          "ε: 98.70 (step 6, original step [1-based] 33)",
          "ε: 122.00 (step 7, original step [1-based] 35)",
          "ε: 219.07 (step 8, original step [1-based] 40)",
          "ε: 248.12 (step 9, original step [1-based] 41)"
         ],
         "type": "scatter",
         "x": [
          811.9224199999626,
          788.4433399999959,
          684.2355150000062,
          666.3405579999999,
          601.4221659999987,
          575.0490494999999,
          549.2376560077521,
          529.2305999999994,
          515.890800000001
         ],
         "y": [
          27.9514461494814,
          38.610098910039,
          53.83071531400062,
          67.86770492076056,
          81.12483926612296,
          98.69997294292493,
          121.99952741002677,
          219.07054172136284,
          248.12406522538916
         ]
        },
        {
         "hovertemplate": "Primary Objective: %{x:.2f}<br>Secondary Objective: %{y:.2f}<br>Epsilon value (step): %{text}",
         "marker": {
          "color": "#FFA15A",
          "opacity": 1,
          "size": [
           12,
           8
          ],
          "symbol": [
           "diamond",
           "circle"
          ]
         },
         "mode": "markers+lines",
         "name": "Scenario D.1",
         "text": [
          "ε: 579.97 (step 1, original step [1-based] 1)",
          "ε: 680.00 (step 2, original step [1-based] 50)"
         ],
         "type": "scatter",
         "x": [
          701.3547999999987,
          692.3571999999994
         ],
         "y": [
          579.9743000000258,
          680
         ]
        },
        {
         "hovertemplate": "Primary Objective: %{x:.2f}<br>Secondary Objective: %{y:.2f}<br>Epsilon value (step): %{text}",
         "marker": {
          "color": "#19D3F3",
          "opacity": 1,
          "size": [
           8,
           8,
           8,
           8,
           8,
           12,
           8,
           8,
           8,
           8,
           8
          ],
          "symbol": [
           "circle",
           "circle",
           "circle",
           "circle",
           "circle",
           "diamond",
           "circle",
           "circle",
           "circle",
           "circle",
           "circle"
          ]
         },
         "mode": "markers+lines",
         "name": "Scenario D.2",
         "text": [
          "ε: 75.83 (step 1, original step [1-based] 1)",
          "ε: 76.54 (step 2, original step [1-based] 7)",
          "ε: 130.93 (step 3, original step [1-based] 34)",
          "ε: 149.04 (step 4, original step [1-based] 36)",
          "ε: 160.21 (step 5, original step [1-based] 37)",
          "ε: 187.86 (step 6, original step [1-based] 39)",
          "ε: 204.90 (step 7, original step [1-based] 40)",
          "ε: 224.52 (step 8, original step [1-based] 41)",
          "ε: 377.26 (step 9, original step [1-based] 46)",
          "ε: 422.98 (step 10, original step [1-based] 47)",
          "ε: 475.61 (step 11, original step [1-based] 48)"
         ],
         "type": "scatter",
         "x": [
          826.5680020000028,
          740.2805340000003,
          733.3979080000046,
          733.2637280000008,
          688.9323099999989,
          651.8532780000007,
          649.5329299999999,
          634.6250280000004,
          596.1904000000103,
          560.2530459999953,
          533.4216979999999
         ],
         "y": [
          75.83497599999805,
          76.54077573327206,
          130.92719568806973,
          149.04421142364455,
          160.20809774539924,
          187.86223607577713,
          204.90299274080522,
          224.52364156596013,
          377.26303501814414,
          422.9782012718001,
          475.61443337570336
         ]
        },
        {
         "hovertemplate": "Primary Objective: %{x:.2f}<br>Secondary Objective: %{y:.2f}<br>Epsilon value (step): %{text}",
         "marker": {
          "color": "#FF6692",
          "opacity": 1,
          "size": [
           8,
           8,
           8,
           8,
           8,
           8,
           8,
           12,
           8,
           8,
           8,
           8
          ],
          "symbol": [
           "circle",
           "circle",
           "circle",
           "circle",
           "circle",
           "circle",
           "circle",
           "diamond",
           "circle",
           "circle",
           "circle",
           "circle"
          ]
         },
         "mode": "markers+lines",
         "name": "Scenario D.3",
         "text": [
          "ε: 22.01 (step 1, original step [1-based] 1)",
          "ε: 43.90 (step 2, original step [1-based] 21)",
          "ε: 92.53 (step 3, original step [1-based] 29)",
          "ε: 103.42 (step 4, original step [1-based] 30)",
          "ε: 213.54 (step 5, original step [1-based] 36)",
          "ε: 242.74 (step 6, original step [1-based] 37)",
          "ε: 276.37 (step 7, original step [1-based] 38)",
          "ε: 315.09 (step 8, original step [1-based] 39)",
          "ε: 359.67 (step 9, original step [1-based] 40)",
          "ε: 411.00 (step 10, original step [1-based] 41)",
          "ε: 930.19 (step 11, original step [1-based] 47)",
          "ε: 1226.44 (step 12, original step [1-based] 49)"
         ],
         "type": "scatter",
         "x": [
          789.4125720000002,
          742.0665741872781,
          720.3772000000017,
          652.7103,
          597.5607999999992,
          584.4897000000001,
          582.342402,
          560.643538,
          548.8475999999998,
          534.140100000002,
          528.2142600000001,
          524.9582000099172
         ],
         "y": [
          22.011050908326524,
          43.90344187850307,
          92.53332565592073,
          103.42026754249105,
          213.5370775366844,
          242.74343075924133,
          276.37149149079653,
          315.09068590537953,
          359.67178821995645,
          411.0022643218622,
          930.188307814714,
          1226.444172634515
         ]
        },
        {
         "hovertemplate": "Primary Objective: %{x:.2f}<br>Secondary Objective: %{y:.2f}<br>Epsilon value (step): %{text}",
         "marker": {
          "color": "#B6E880",
          "opacity": 1,
          "size": [
           8,
           8,
           8,
           12,
           8,
           8,
           8,
           8,
           8,
           8
          ],
          "symbol": [
           "circle",
           "circle",
           "circle",
           "diamond",
           "circle",
           "circle",
           "circle",
           "circle",
           "circle",
           "circle"
          ]
         },
         "mode": "markers+lines",
         "name": "Scenario E",
         "text": [
          "ε: 23.89 (step 1, original step [1-based] 1)",
          "ε: 27.90 (step 2, original step [1-based] 17)",
          "ε: 29.36 (step 3, original step [1-based] 19)",
          "ε: 39.36 (step 4, original step [1-based] 26)",
          "ε: 60.55 (step 5, original step [1-based] 32)",
          "ε: 98.55 (step 6, original step [1-based] 37)",
          "ε: 109.92 (step 7, original step [1-based] 38)",
          "ε: 123.02 (step 8, original step [1-based] 39)",
          "ε: 290.61 (step 9, original step [1-based] 46)",
          "ε: 377.63 (step 10, original step [1-based] 48)"
         ],
         "type": "scatter",
         "x": [
          544.1128560032984,
          498.9752800012203,
          448.6521780038053,
          427.78905150650843,
          425.2765360094204,
          418.0538235109695,
          406.68431600822515,
          404.48301600096386,
          400.2867355104985,
          399.4055100023461
         ],
         "y": [
          23.890784999999596,
          27.901436235691257,
          29.36069807675278,
          39.3550560734203,
          60.546308552802316,
          98.54717898551544,
          109.92090563422684,
          123.01656217074978,
          290.6052488816754,
          377.63012828538865
         ]
        }
       ],
       "layout": {
        "height": 500,
        "legend": {
         "orientation": "h",
         "x": 0.5,
         "xanchor": "center",
         "y": -0.2,
         "yanchor": "bottom"
        },
        "margin": {
         "b": 50,
         "l": 50,
         "r": 50,
         "t": 50
        },
        "template": {
         "data": {
          "bar": [
           {
            "error_x": {
             "color": "#2a3f5f"
            },
            "error_y": {
             "color": "#2a3f5f"
            },
            "marker": {
             "line": {
              "color": "white",
              "width": 0.5
             },
             "pattern": {
              "fillmode": "overlay",
              "size": 10,
              "solidity": 0.2
             }
            },
            "type": "bar"
           }
          ],
          "barpolar": [
           {
            "marker": {
             "line": {
              "color": "white",
              "width": 0.5
             },
             "pattern": {
              "fillmode": "overlay",
              "size": 10,
              "solidity": 0.2
             }
            },
            "type": "barpolar"
           }
          ],
          "carpet": [
           {
            "aaxis": {
             "endlinecolor": "#2a3f5f",
             "gridcolor": "#C8D4E3",
             "linecolor": "#C8D4E3",
             "minorgridcolor": "#C8D4E3",
             "startlinecolor": "#2a3f5f"
            },
            "baxis": {
             "endlinecolor": "#2a3f5f",
             "gridcolor": "#C8D4E3",
             "linecolor": "#C8D4E3",
             "minorgridcolor": "#C8D4E3",
             "startlinecolor": "#2a3f5f"
            },
            "type": "carpet"
           }
          ],
          "choropleth": [
           {
            "colorbar": {
             "outlinewidth": 0,
             "ticks": ""
            },
            "type": "choropleth"
           }
          ],
          "contour": [
           {
            "colorbar": {
             "outlinewidth": 0,
             "ticks": ""
            },
            "colorscale": [
             [
              0,
              "#0d0887"
             ],
             [
              0.1111111111111111,
              "#46039f"
             ],
             [
              0.2222222222222222,
              "#7201a8"
             ],
             [
              0.3333333333333333,
              "#9c179e"
             ],
             [
              0.4444444444444444,
              "#bd3786"
             ],
             [
              0.5555555555555556,
              "#d8576b"
             ],
             [
              0.6666666666666666,
              "#ed7953"
             ],
             [
              0.7777777777777778,
              "#fb9f3a"
             ],
             [
              0.8888888888888888,
              "#fdca26"
             ],
             [
              1,
              "#f0f921"
             ]
            ],
            "type": "contour"
           }
          ],
          "contourcarpet": [
           {
            "colorbar": {
             "outlinewidth": 0,
             "ticks": ""
            },
            "type": "contourcarpet"
           }
          ],
          "heatmap": [
           {
            "colorbar": {
             "outlinewidth": 0,
             "ticks": ""
            },
            "colorscale": [
             [
              0,
              "#0d0887"
             ],
             [
              0.1111111111111111,
              "#46039f"
             ],
             [
              0.2222222222222222,
              "#7201a8"
             ],
             [
              0.3333333333333333,
              "#9c179e"
             ],
             [
              0.4444444444444444,
              "#bd3786"
             ],
             [
              0.5555555555555556,
              "#d8576b"
             ],
             [
              0.6666666666666666,
              "#ed7953"
             ],
             [
              0.7777777777777778,
              "#fb9f3a"
             ],
             [
              0.8888888888888888,
              "#fdca26"
             ],
             [
              1,
              "#f0f921"
             ]
            ],
            "type": "heatmap"
           }
          ],
          "histogram": [
           {
            "marker": {
             "pattern": {
              "fillmode": "overlay",
              "size": 10,
              "solidity": 0.2
             }
            },
            "type": "histogram"
           }
          ],
          "histogram2d": [
           {
            "colorbar": {
             "outlinewidth": 0,
             "ticks": ""
            },
            "colorscale": [
             [
              0,
              "#0d0887"
             ],
             [
              0.1111111111111111,
              "#46039f"
             ],
             [
              0.2222222222222222,
              "#7201a8"
             ],
             [
              0.3333333333333333,
              "#9c179e"
             ],
             [
              0.4444444444444444,
              "#bd3786"
             ],
             [
              0.5555555555555556,
              "#d8576b"
             ],
             [
              0.6666666666666666,
              "#ed7953"
             ],
             [
              0.7777777777777778,
              "#fb9f3a"
             ],
             [
              0.8888888888888888,
              "#fdca26"
             ],
             [
              1,
              "#f0f921"
             ]
            ],
            "type": "histogram2d"
           }
          ],
          "histogram2dcontour": [
           {
            "colorbar": {
             "outlinewidth": 0,
             "ticks": ""
            },
            "colorscale": [
             [
              0,
              "#0d0887"
             ],
             [
              0.1111111111111111,
              "#46039f"
             ],
             [
              0.2222222222222222,
              "#7201a8"
             ],
             [
              0.3333333333333333,
              "#9c179e"
             ],
             [
              0.4444444444444444,
              "#bd3786"
             ],
             [
              0.5555555555555556,
              "#d8576b"
             ],
             [
              0.6666666666666666,
              "#ed7953"
             ],
             [
              0.7777777777777778,
              "#fb9f3a"
             ],
             [
              0.8888888888888888,
              "#fdca26"
             ],
             [
              1,
              "#f0f921"
             ]
            ],
            "type": "histogram2dcontour"
           }
          ],
          "mesh3d": [
           {
            "colorbar": {
             "outlinewidth": 0,
             "ticks": ""
            },
            "type": "mesh3d"
           }
          ],
          "parcoords": [
           {
            "line": {
             "colorbar": {
              "outlinewidth": 0,
              "ticks": ""
             }
            },
            "type": "parcoords"
           }
          ],
          "pie": [
           {
            "automargin": true,
            "type": "pie"
           }
          ],
          "scatter": [
           {
            "fillpattern": {
             "fillmode": "overlay",
             "size": 10,
             "solidity": 0.2
            },
            "type": "scatter"
           }
          ],
          "scatter3d": [
           {
            "line": {
             "colorbar": {
              "outlinewidth": 0,
              "ticks": ""
             }
            },
            "marker": {
             "colorbar": {
              "outlinewidth": 0,
              "ticks": ""
             }
            },
            "type": "scatter3d"
           }
          ],
          "scattercarpet": [
           {
            "marker": {
             "colorbar": {
              "outlinewidth": 0,
              "ticks": ""
             }
            },
            "type": "scattercarpet"
           }
          ],
          "scattergeo": [
           {
            "marker": {
             "colorbar": {
              "outlinewidth": 0,
              "ticks": ""
             }
            },
            "type": "scattergeo"
           }
          ],
          "scattergl": [
           {
            "marker": {
             "colorbar": {
              "outlinewidth": 0,
              "ticks": ""
             }
            },
            "type": "scattergl"
           }
          ],
          "scattermap": [
           {
            "marker": {
             "colorbar": {
              "outlinewidth": 0,
              "ticks": ""
             }
            },
            "type": "scattermap"
           }
          ],
          "scattermapbox": [
           {
            "marker": {
             "colorbar": {
              "outlinewidth": 0,
              "ticks": ""
             }
            },
            "type": "scattermapbox"
           }
          ],
          "scatterpolar": [
           {
            "marker": {
             "colorbar": {
              "outlinewidth": 0,
              "ticks": ""
             }
            },
            "type": "scatterpolar"
           }
          ],
          "scatterpolargl": [
           {
            "marker": {
             "colorbar": {
              "outlinewidth": 0,
              "ticks": ""
             }
            },
            "type": "scatterpolargl"
           }
          ],
          "scatterternary": [
           {
            "marker": {
             "colorbar": {
              "outlinewidth": 0,
              "ticks": ""
             }
            },
            "type": "scatterternary"
           }
          ],
          "surface": [
           {
            "colorbar": {
             "outlinewidth": 0,
             "ticks": ""
            },
            "colorscale": [
             [
              0,
              "#0d0887"
             ],
             [
              0.1111111111111111,
              "#46039f"
             ],
             [
              0.2222222222222222,
              "#7201a8"
             ],
             [
              0.3333333333333333,
              "#9c179e"
             ],
             [
              0.4444444444444444,
              "#bd3786"
             ],
             [
              0.5555555555555556,
              "#d8576b"
             ],
             [
              0.6666666666666666,
              "#ed7953"
             ],
             [
              0.7777777777777778,
              "#fb9f3a"
             ],
             [
              0.8888888888888888,
              "#fdca26"
             ],
             [
              1,
              "#f0f921"
             ]
            ],
            "type": "surface"
           }
          ],
          "table": [
           {
            "cells": {
             "fill": {
              "color": "#EBF0F8"
             },
             "line": {
              "color": "white"
             }
            },
            "header": {
             "fill": {
              "color": "#C8D4E3"
             },
             "line": {
              "color": "white"
             }
            },
            "type": "table"
           }
          ]
         },
         "layout": {
          "annotationdefaults": {
           "arrowcolor": "#2a3f5f",
           "arrowhead": 0,
           "arrowwidth": 1
          },
          "autotypenumbers": "strict",
          "coloraxis": {
           "colorbar": {
            "outlinewidth": 0,
            "ticks": ""
           }
          },
          "colorscale": {
           "diverging": [
            [
             0,
             "#8e0152"
            ],
            [
             0.1,
             "#c51b7d"
            ],
            [
             0.2,
             "#de77ae"
            ],
            [
             0.3,
             "#f1b6da"
            ],
            [
             0.4,
             "#fde0ef"
            ],
            [
             0.5,
             "#f7f7f7"
            ],
            [
             0.6,
             "#e6f5d0"
            ],
            [
             0.7,
             "#b8e186"
            ],
            [
             0.8,
             "#7fbc41"
            ],
            [
             0.9,
             "#4d9221"
            ],
            [
             1,
             "#276419"
            ]
           ],
           "sequential": [
            [
             0,
             "#0d0887"
            ],
            [
             0.1111111111111111,
             "#46039f"
            ],
            [
             0.2222222222222222,
             "#7201a8"
            ],
            [
             0.3333333333333333,
             "#9c179e"
            ],
            [
             0.4444444444444444,
             "#bd3786"
            ],
            [
             0.5555555555555556,
             "#d8576b"
            ],
            [
             0.6666666666666666,
             "#ed7953"
            ],
            [
             0.7777777777777778,
             "#fb9f3a"
            ],
            [
             0.8888888888888888,
             "#fdca26"
            ],
            [
             1,
             "#f0f921"
            ]
           ],
           "sequentialminus": [
            [
             0,
             "#0d0887"
            ],
            [
             0.1111111111111111,
             "#46039f"
            ],
            [
             0.2222222222222222,
             "#7201a8"
            ],
            [
             0.3333333333333333,
             "#9c179e"
            ],
            [
             0.4444444444444444,
             "#bd3786"
            ],
            [
             0.5555555555555556,
             "#d8576b"
            ],
            [
             0.6666666666666666,
             "#ed7953"
            ],
            [
             0.7777777777777778,
             "#fb9f3a"
            ],
            [
             0.8888888888888888,
             "#fdca26"
            ],
            [
             1,
             "#f0f921"
            ]
           ]
          },
          "colorway": [
           "#636efa",
           "#EF553B",
           "#00cc96",
           "#ab63fa",
           "#FFA15A",
           "#19d3f3",
           "#FF6692",
           "#B6E880",
           "#FF97FF",
           "#FECB52"
          ],
          "font": {
           "color": "#2a3f5f"
          },
          "geo": {
           "bgcolor": "white",
           "lakecolor": "white",
           "landcolor": "white",
           "showlakes": true,
           "showland": true,
           "subunitcolor": "#C8D4E3"
          },
          "hoverlabel": {
           "align": "left"
          },
          "hovermode": "closest",
          "mapbox": {
           "style": "light"
          },
          "paper_bgcolor": "white",
          "plot_bgcolor": "white",
          "polar": {
           "angularaxis": {
            "gridcolor": "#EBF0F8",
            "linecolor": "#EBF0F8",
            "ticks": ""
           },
           "bgcolor": "white",
           "radialaxis": {
            "gridcolor": "#EBF0F8",
            "linecolor": "#EBF0F8",
            "ticks": ""
           }
          },
          "scene": {
           "xaxis": {
            "backgroundcolor": "white",
            "gridcolor": "#DFE8F3",
            "gridwidth": 2,
            "linecolor": "#EBF0F8",
            "showbackground": true,
            "ticks": "",
            "zerolinecolor": "#EBF0F8"
           },
           "yaxis": {
            "backgroundcolor": "white",
            "gridcolor": "#DFE8F3",
            "gridwidth": 2,
            "linecolor": "#EBF0F8",
            "showbackground": true,
            "ticks": "",
            "zerolinecolor": "#EBF0F8"
           },
           "zaxis": {
            "backgroundcolor": "white",
            "gridcolor": "#DFE8F3",
            "gridwidth": 2,
            "linecolor": "#EBF0F8",
            "showbackground": true,
            "ticks": "",
            "zerolinecolor": "#EBF0F8"
           }
          },
          "shapedefaults": {
           "line": {
            "color": "#2a3f5f"
           }
          },
          "ternary": {
           "aaxis": {
            "gridcolor": "#DFE8F3",
            "linecolor": "#A2B1C6",
            "ticks": ""
           },
           "baxis": {
            "gridcolor": "#DFE8F3",
            "linecolor": "#A2B1C6",
            "ticks": ""
           },
           "bgcolor": "white",
           "caxis": {
            "gridcolor": "#DFE8F3",
            "linecolor": "#A2B1C6",
            "ticks": ""
           }
          },
          "title": {
           "x": 0.05
          },
          "xaxis": {
           "automargin": true,
           "gridcolor": "#EBF0F8",
           "linecolor": "#EBF0F8",
           "ticks": "",
           "title": {
            "standoff": 15
           },
           "zerolinecolor": "#EBF0F8",
           "zerolinewidth": 2
          },
          "yaxis": {
           "automargin": true,
           "gridcolor": "#EBF0F8",
           "linecolor": "#EBF0F8",
           "ticks": "",
           "title": {
            "standoff": 15
           },
           "zerolinecolor": "#EBF0F8",
           "zerolinewidth": 2
          }
         }
        },
        "title": {
         "text": "Pareto Front: Trade-off between Cycle Time and Smoothness Score"
        },
        "width": 1200,
        "xaxis": {
         "title": {
          "text": "Cycle Time"
         }
        },
        "yaxis": {
         "title": {
          "text": "Smoothness Score"
         }
        }
       }
      }
     },
     "metadata": {},
     "output_type": "display_data"
    }
   ],
   "source": [
    "from typing import List\n",
    "import plotly.express as px\n",
    "import plotly.graph_objects as go\n",
    "\n",
    "\n",
    "def read_json_files(file_names: List[str], only_pareto: bool = True) -> List:\n",
    "    data_list = []\n",
    "    for file in file_names:\n",
    "        with open(f\"{file}\", \"r\") as file:\n",
    "            data = json.load(file)\n",
    "        if only_pareto:\n",
    "            data = data[\"pareto_front\"]\n",
    "        data_list.append(data)\n",
    "    return data_list\n",
    "\n",
    "\n",
    "def filter_pareto_front(points):\n",
    "    rounded_points = [(round(p[0], 3), round(p[1], 3), p) for p in points]\n",
    "    filtered_points = []\n",
    "    for i, (x1, y1, original) in enumerate(rounded_points):\n",
    "        is_dominated = False\n",
    "        for j, (x2, y2, _) in enumerate(rounded_points):\n",
    "            if i == j:\n",
    "                continue\n",
    "            if (x2 <= x1 and y2 < y1) or (x2 < x1 and y2 <= y1):\n",
    "                is_dominated = True\n",
    "                break\n",
    "\n",
    "        if not is_dominated:\n",
    "            filtered_points.append(original)\n",
    "\n",
    "    return filtered_points\n",
    "\n",
    "\n",
    "def visualize_pareto_front(\n",
    "    pareto_front: List[List[float]] | List[List[List[float]]],\n",
    "    labels: List[str] = None,\n",
    "    start_row: int = None,\n",
    "    end_row: int = None,\n",
    "    pareto_only: bool = False,\n",
    "    mark_ideal: bool = False,\n",
    "    colorscale: str = \"Plotly\",  # https://plotly.com/python/discrete-color/\n",
    "):\n",
    "    is_multiple_fronts = False\n",
    "\n",
    "    # Check if pareto_front is a list of fronts or single front\n",
    "    if pareto_front and isinstance(pareto_front[0], list):\n",
    "        if pareto_front[0] and isinstance(pareto_front[0][0], list):\n",
    "            is_multiple_fronts = True\n",
    "    if not is_multiple_fronts:\n",
    "        pareto_front = [pareto_front]\n",
    "    # Generate labels if not provided\n",
    "    if not labels:\n",
    "        labels = [f\"Pareto Front {i + 1}\" for i, _ in enumerate(pareto_front)]\n",
    "    elif len(labels) < len(pareto_front):\n",
    "        labels = labels + [f\"Pareto Front {i + 1}\" for i, _ in enumerate(pareto_front[len(labels) :])]\n",
    "    # Set colorscale\n",
    "    try:\n",
    "        colors = getattr(px.colors.qualitative, colorscale)\n",
    "    except AttributeError:\n",
    "        print(f\"Color scale '{colorscale}' not found. Using default 'Plotly'.\")\n",
    "        colors = px.colors.qualitative.Plotly\n",
    "\n",
    "    # Ensure we have enough colors by cycling if needed\n",
    "    num_fronts = len(pareto_front)\n",
    "    if num_fronts > len(colors):\n",
    "        colors = colors * (num_fronts // len(colors) + 1)\n",
    "    colors = colors[:num_fronts]\n",
    "\n",
    "    fig = go.Figure(\n",
    "        layout=go.Layout(\n",
    "            title=go.layout.Title(\n",
    "                text=\"Pareto Front: Trade-off between Cycle Time and Smoothness Score\",\n",
    "            ),\n",
    "            xaxis=go.layout.XAxis(\n",
    "                title=go.layout.xaxis.Title(\n",
    "                    text=\"Cycle Time\",\n",
    "                ),\n",
    "            ),\n",
    "            yaxis=go.layout.YAxis(\n",
    "                title=go.layout.yaxis.Title(\n",
    "                    text=\"Smoothness Score\",\n",
    "                ),\n",
    "            ),\n",
    "            template=\"plotly_white\",\n",
    "        ),\n",
    "    )\n",
    "    for i, front in enumerate(pareto_front):\n",
    "        start = 0 if start_row is None else max(0, start_row)\n",
    "        end = len(front) if end_row is None else min(len(front), end_row)\n",
    "        sliced_front = front[start:end]\n",
    "\n",
    "        filtered_points = []\n",
    "        if pareto_only:\n",
    "            filtered_points = filter_pareto_front(sliced_front)\n",
    "        else:\n",
    "            filtered_points = sliced_front\n",
    "        \n",
    "        # Ideal point\n",
    "        ideal_point = [None, None]\n",
    "        for step in range(len(filtered_points)):\n",
    "            if ideal_point[0] is None or filtered_points[step][0] < ideal_point[0]:\n",
    "                ideal_point[0] = filtered_points[step][0]\n",
    "            if ideal_point[1] is None or filtered_points[step][1] < ideal_point[1]:\n",
    "                ideal_point[1] = filtered_points[step][1]\n",
    "        \n",
    "        # Observed (Nadir) point\n",
    "        nadir_point = [None, None]\n",
    "        for step in range(len(filtered_points)):\n",
    "            if nadir_point[0] is None or filtered_points[step][0] > nadir_point[0]:\n",
    "                nadir_point[0] = filtered_points[step][0]\n",
    "            if nadir_point[1] is None or filtered_points[step][1] > nadir_point[1]:\n",
    "                nadir_point[1] = filtered_points[step][1]\n",
    "            \n",
    "\n",
    "        # Normalize points\n",
    "        normalized_pareto_front = []\n",
    "        for step in range(len(filtered_points)):\n",
    "            try:\n",
    "                norm_x = (filtered_points[step][0] - ideal_point[0]) / (nadir_point[0] - ideal_point[0]) if nadir_point[0] != ideal_point[0] else 0\n",
    "                norm_y = (filtered_points[step][1] - ideal_point[1]) / (nadir_point[1] - ideal_point[1]) if nadir_point[1] != ideal_point[1] else 0\n",
    "                normalized_pareto_front.append([norm_x, norm_y, step])\n",
    "            except ZeroDivisionError:\n",
    "                normalized_pareto_front.append([0 if nadir_point[0] == ideal_point[0] else \n",
    "                               (filtered_points[step][0] - ideal_point[0]), \n",
    "                               0 if nadir_point[1] == ideal_point[1] else \n",
    "                               (filtered_points[step][1] - ideal_point[1]), step])\n",
    "        # Calculate distance and find out the best point from the ideal point\n",
    "        best_point = None\n",
    "        best_distance = None\n",
    "        \n",
    "        for step in range(len(normalized_pareto_front)):\n",
    "            distance = math.sqrt(normalized_pareto_front[step][0]**2 + normalized_pareto_front[step][1]**2)\n",
    "            if best_distance is None or distance < best_distance:\n",
    "                best_distance = distance\n",
    "                best_point = step\n",
    "        \n",
    "        x_vals = [p[0] for p in filtered_points]\n",
    "        y_vals = [p[1] for p in filtered_points]\n",
    "        text_with_steps = [f\"ε: {p[2]:.2f} (step {j + 1}, original step [1-based] {p[3] + 1})\" for j, p in enumerate(filtered_points)]\n",
    "        symbol_list = [\"diamond\" if j == best_point and mark_ideal else \"circle\" for j, _ in enumerate(filtered_points)]\n",
    "        size_list = [12 if j == best_point and mark_ideal else 8 for j, _ in enumerate(filtered_points)]\n",
    "        \n",
    "        fig.add_trace(\n",
    "            go.Scatter(\n",
    "                name=labels[i],\n",
    "                x=x_vals,\n",
    "                y=y_vals,\n",
    "                mode=\"markers+lines\",\n",
    "                text=text_with_steps,\n",
    "                marker=go.scatter.Marker(\n",
    "                    size=size_list,\n",
    "                    color=colors[i],\n",
    "                    symbol=symbol_list,\n",
    "                    opacity=1,\n",
    "                    \n",
    "                ),\n",
    "                hovertemplate=\"Primary Objective: %{x:.2f}<br>Secondary Objective: %{y:.2f}<br>Epsilon value (step): %{text}\",\n",
    "            ),\n",
    "        )\n",
    "\n",
    "    # Add layout customization to make the figure smaller\n",
    "    fig.update_layout(\n",
    "        width=1200,\n",
    "        height=500,\n",
    "        margin=dict(l=50, r=50, t=50, b=50),\n",
    "        legend=dict(\n",
    "            orientation=\"h\",\n",
    "            yanchor=\"bottom\",\n",
    "            y=-0.2,\n",
    "            xanchor=\"center\",\n",
    "            x=0.5\n",
    "        )\n",
    "    )\n",
    "    fig.show()\n",
    "    return fig\n",
    "\n",
    "\n",
    "fronts = read_json_files(\n",
    "    [\n",
    "        \"results_raw/OS_High_50/A_same_time.json\",\n",
    "        \"results_raw/OS_High_50/B_1_slightly_faster.json\",\n",
    "        \"results_raw/OS_High_50/B_2_significantly_faster.json\",\n",
    "        \"results_raw/OS_High_50/C_random.json\",\n",
    "        \"results_raw/OS_High_50/D_1_specialized.json\",\n",
    "        \"results_raw/OS_High_50/D_2_specialized.json\",\n",
    "        \"results_raw/OS_High_50/D_3_specialized.json\",\n",
    "        \"results_raw/OS_High_50/E_multiple.json\",\n",
    "    ]\n",
    ")\n",
    "names = [\n",
    "    \"Scenario A\",\n",
    "    \"Scenario B.1\",\n",
    "    \"Scenario B.2\",\n",
    "    \"Scenario C\",\n",
    "    \"Scenario D.1\",\n",
    "    \"Scenario D.2\",\n",
    "    \"Scenario D.3\",\n",
    "    \"Scenario E\",    \n",
    "]\n",
    "front=visualize_pareto_front(fronts, pareto_only=True, mark_ideal=True, labels=names)\n"
   ]
  },
  {
   "cell_type": "markdown",
   "metadata": {},
   "source": [
    "#### Get *optimal* point of pareto front"
   ]
  },
  {
   "cell_type": "code",
   "execution_count": 46,
   "metadata": {},
   "outputs": [
    {
     "name": "stdout",
     "output_type": "stream",
     "text": [
      "Ideal Point: [359.0219982682806, 10.030499711057928]\n",
      "Observed Nadir point: [649.6299289999857, 1094.0]\n",
      "Best Point: 33 (cleaned pareto front step: 10) with distance 0.26721665034676184, fairness: 122.67143817682789, cycle time: 430.564904\n"
     ]
    }
   ],
   "source": [
    "# All points as [Cycle Time, Smoothness Index]\n",
    "# Ideal point\n",
    "ideal_point = [None, None]\n",
    "for step in range(len(data[\"pareto_front\"])):\n",
    "    if ideal_point[0] is None or data[\"pareto_front\"][step][0] < ideal_point[0]:\n",
    "        ideal_point[0] = data[\"pareto_front\"][step][0]\n",
    "    if ideal_point[1] is None or data[\"pareto_front\"][step][1] < ideal_point[1]:\n",
    "        ideal_point[1] = data[\"pareto_front\"][step][1]\n",
    "\n",
    "print(f\"Ideal Point: {ideal_point}\")\n",
    "\n",
    "# Before calculating the observed Nadir point -> only use actual pareto front\n",
    "cleaned_pareto_front = []\n",
    "for step in range(1, len(data[\"pareto_front\"])):\n",
    "    if math.isclose(data[\"pareto_front\"][step][0], data[\"pareto_front\"][step - 1][0], abs_tol=1e-6) and (\n",
    "        data[\"pareto_front\"][step][1] > data[\"pareto_front\"][step - 1][1]\n",
    "        or math.isclose(data[\"pareto_front\"][step][1], data[\"pareto_front\"][step - 1][1], abs_tol=1e-6)\n",
    "    ):\n",
    "        continue\n",
    "    cleaned_pareto_front.append(data[\"pareto_front\"][step])\n",
    "\n",
    "# Observed Nadir point\n",
    "nadir_point = [None, None]\n",
    "for step in range(len(cleaned_pareto_front)):\n",
    "    if nadir_point[0] is None or cleaned_pareto_front[step][0] > nadir_point[0]:\n",
    "        nadir_point[0] = cleaned_pareto_front[step][0]\n",
    "    if nadir_point[1] is None or cleaned_pareto_front[step][1] > nadir_point[1]:\n",
    "        nadir_point[1] = cleaned_pareto_front[step][1]\n",
    "\n",
    "print(f\"Observed Nadir point: {nadir_point}\")\n",
    "\n",
    "# Normalize points\n",
    "normalized_pareto_front = []\n",
    "for step in range(len(cleaned_pareto_front)):\n",
    "    normalized_pareto_front.append(\n",
    "        [\n",
    "            (cleaned_pareto_front[step][0] - ideal_point[0]) / (nadir_point[0] - ideal_point[0]),\n",
    "            (cleaned_pareto_front[step][1] - ideal_point[1]) / (nadir_point[1] - ideal_point[1]),\n",
    "            step,\n",
    "        ]\n",
    "    )\n",
    "\n",
    "# Calculate distance and find out the best point from the ideal point\n",
    "best_point = None\n",
    "best_distance = None\n",
    "best_cycle_time = None\n",
    "best_fairness = None\n",
    "for step in range(len(normalized_pareto_front)):\n",
    "    distance = math.sqrt(normalized_pareto_front[step][0] ** 2 + normalized_pareto_front[step][1] ** 2)\n",
    "    if best_distance is None or distance < best_distance:\n",
    "        best_distance = distance\n",
    "        best_point = step\n",
    "        best_cycle_time = cleaned_pareto_front[step][0]\n",
    "        best_fairness = cleaned_pareto_front[step][1]\n",
    "\n",
    "actual_best_point = None\n",
    "for step in range(len(data[\"pareto_front\"])):\n",
    "    if math.isclose(data[\"pareto_front\"][step][0], best_cycle_time, abs_tol=1e-6) and math.isclose(\n",
    "        data[\"pareto_front\"][step][1], best_fairness, abs_tol=1e-6\n",
    "    ):\n",
    "        actual_best_point = step\n",
    "        break\n",
    "print(\n",
    "    f\"Best Point: {actual_best_point} (cleaned pareto front step: {best_point}) with distance {best_distance}, fairness: {best_fairness}, cycle time: {best_cycle_time}\"\n",
    ")"
   ]
  },
  {
   "cell_type": "markdown",
   "metadata": {},
   "source": [
    "# Viz for each step"
   ]
  },
  {
   "cell_type": "code",
   "execution_count": 47,
   "metadata": {},
   "outputs": [],
   "source": [
    "# Set step we want to plot\n",
    "# Using original step, not from cleaned pareto front!\n",
    "pstep = 47"
   ]
  },
  {
   "cell_type": "code",
   "execution_count": 48,
   "metadata": {},
   "outputs": [
    {
     "name": "stdout",
     "output_type": "stream",
     "text": [
      "Cycle Time C:  389.5049999999987\n",
      "Fairness:  827.4151234038613\n",
      "Solution:\n",
      "Operation  1  is assigned to station  1\n",
      "Operation  2  is assigned to station  1\n",
      "Operation  3  is assigned to station  1\n",
      "Operation  4  is assigned to station  1\n",
      "Operation  5  is assigned to station  1\n",
      "Operation  6  is assigned to station  1\n",
      "Operation  7  is assigned to station  2\n",
      "Operation  8  is assigned to station  3\n",
      "Operation  9  is assigned to station  2\n",
      "Operation  10  is assigned to station  3\n",
      "Operation  11  is assigned to station  2\n",
      "Operation  12  is assigned to station  3\n",
      "Worker  1  is assigned to operation  2\n",
      "Worker  1  is assigned to operation  3\n",
      "Worker  1  is assigned to operation  4\n",
      "Worker  1  is assigned to operation  5\n",
      "Worker  1  is assigned to operation  6\n",
      "Worker  2  is assigned to operation  7\n",
      "Worker  2  is assigned to operation  9\n",
      "Worker  2  is assigned to operation  11\n",
      "Worker  3  is assigned to operation  8\n",
      "Worker  3  is assigned to operation  10\n",
      "Worker  3  is assigned to operation  12\n",
      "Worker  4  is assigned to operation  1\n",
      "Worker  5  is assigned to operation  1\n",
      "Worker  5  is assigned to operation  2\n",
      "Worker  6  is assigned to operation  8\n",
      "Worker  1  is assigned to station  1\n",
      "Worker  2  is assigned to station  2\n",
      "Worker  3  is assigned to station  3\n",
      "Worker  4  is assigned to station  1\n",
      "Worker  5  is assigned to station  1\n",
      "Worker  6  is assigned to station  3\n",
      "Operation  1  has normal processing time  22\n",
      "Operation  2  has normal processing time  128\n",
      "Operation  3  has normal processing time  104\n",
      "Operation  4  has normal processing time  54\n",
      "Operation  5  has normal processing time  133\n",
      "Operation  6  has normal processing time  78\n",
      "Operation  7  has normal processing time  89\n",
      "Operation  8  has normal processing time  252\n",
      "Operation  9  has normal processing time  274\n",
      "Operation  10  has normal processing time  134\n",
      "Operation  11  has normal processing time  212\n",
      "Operation  12  has normal processing time  95\n",
      "Operation  1  has actual processing time  24.142139999999998\n",
      "Operation  2  has actual processing time  107.69152000000011\n",
      "Operation  3  has actual processing time  70.44959999999679\n",
      "Operation  4  has actual processing time  36.57959999999997\n",
      "Operation  5  has actual processing time  90.0941999999998\n",
      "Operation  6  has actual processing time  52.8371999999992\n",
      "Operation  7  has actual processing time  60.288599999999995\n",
      "Operation  8  has actual processing time  226.60721999999996\n",
      "Operation  9  has actual processing time  185.60759999999908\n",
      "Operation  10  has actual processing time  90.77159999999998\n",
      "Operation  11  has actual processing time  143.60879999999963\n",
      "Operation  12  has actual processing time  64.35300000000001\n",
      "Operation  1  has worker amount modifier  0.9\n",
      "Operation  2  has worker amount modifier  0.92\n",
      "Operation  3  has worker amount modifier  1.0\n",
      "Operation  4  has worker amount modifier  1.0\n",
      "Operation  5  has worker amount modifier  1.0\n",
      "Operation  6  has worker amount modifier  1.0\n",
      "Operation  7  has worker amount modifier  1.0\n",
      "Operation  8  has worker amount modifier  0.9\n",
      "Operation  9  has worker amount modifier  1.0\n",
      "Operation  10  has worker amount modifier  1.0\n",
      "Operation  11  has worker amount modifier  1.0\n",
      "Operation  12  has worker amount modifier  1.0\n"
     ]
    }
   ],
   "source": [
    "print(\"Cycle Time C: \", data[\"Cycle_Time\"][pstep])\n",
    "print(\"Fairness: \", data[\"Worker_Deviation\"][pstep])\n",
    "print(\"Solution:\")\n",
    "for operation in range(OperationsLength):\n",
    "    for station in range(StationsLength):\n",
    "        converted_op_at_station = {eval(k): v for k, v in data[\"Op_at_Station\"][pstep].items()}\n",
    "        if converted_op_at_station[operation, station] > 0.5:\n",
    "            print(\"Operation \", operation+1, \" is assigned to station \", station+1)\n",
    "\n",
    "converted_worker_at_op = {eval(k): v for k, v in data[\"Worker_at_Operation\"][pstep].items()}\n",
    "for (w, op) in  converted_worker_at_op:\n",
    "    if converted_worker_at_op[w, op]:\n",
    "        if data['individual_worker_multiplier'][w][op] > 5:\n",
    "            print(\"ERROR: Bad assignment, worker cannot perform the following operation\")\n",
    "\n",
    "        print(\"Worker \", w+1, \" is assigned to operation \", op+1)\n",
    "\n",
    "converted_worker_at_station = {eval(k): v for k, v in data[\"Worker_at_Station\"][pstep].items()}        \n",
    "for (w, station) in converted_worker_at_station:\n",
    "    if converted_worker_at_station[w, station]:\n",
    "        print(\"Worker \", w+1, \" is assigned to station \", station+1)\n",
    "        \n",
    "for op in range(OperationsLength):\n",
    "    print(\"Operation \", op+1, \" has normal processing time \", op_times[op])\n",
    "\n",
    "converted_actual_processing_time_per_op = {eval(k): v for k, v in data[\"Actual_Processing_Time_per_Op\"][pstep].items()}        \n",
    "for op in range(OperationsLength):\n",
    "    print(\"Operation \", op+1, \" has actual processing time \", converted_actual_processing_time_per_op[op])\n",
    "    \n",
    "converted_actual_amount_modifier_op = {eval(k): v for k, v in data[\"Actual_Amount_Modifier_Op\"][pstep].items()}\n",
    "for op in range(OperationsLength):\n",
    "    print(\"Operation \", op+1, \" has worker amount modifier \", converted_actual_amount_modifier_op[op])\n",
    "    \n",
    "cycle_time = data[\"Cycle_Time\"][pstep]\n",
    "smoothness_index = data[\"Worker_Deviation\"][pstep]"
   ]
  },
  {
   "cell_type": "markdown",
   "metadata": {},
   "source": [
    "**Worker time, grouped by stations**"
   ]
  },
  {
   "cell_type": "code",
   "execution_count": 49,
   "metadata": {},
   "outputs": [
    {
     "data": {
      "image/png": "[encoded data removed]",
      "text/plain": [
       "<Figure size 1000x800 with 1 Axes>"
      ]
     },
     "metadata": {},
     "output_type": "display_data"
    }
   ],
   "source": [
    "fig, axs = plt.subplots(1, 1, figsize=(10, 8))\n",
    "\n",
    "# Stacked bar chart for visualizing the time at each station, this will nicely show the cycle time\n",
    "colors = plt.get_cmap(\"tab20c\").colors\n",
    "color_index = 0\n",
    "\n",
    "for station in range(0, StationsLength):\n",
    "    station_sum = 0\n",
    "    for i in range(0, OperationsLength):\n",
    "        if converted_op_at_station[i, station]:\n",
    "            bar = axs.bar(\n",
    "                station + 1,\n",
    "                converted_actual_processing_time_per_op[i],\n",
    "                bottom=station_sum,\n",
    "                label=f\"Operation {i + 1}\",\n",
    "                edgecolor=\"black\",\n",
    "                color=colors[color_index % len(colors)],\n",
    "            )\n",
    "            axs.bar_label(bar)\n",
    "            station_sum += converted_actual_processing_time_per_op[i]\n",
    "            color_index += 1\n",
    "\n",
    "\n",
    "# Draw horizontal line at cycle time\n",
    "axs.axhline(\n",
    "    y=data[\"Cycle_Time\"][pstep],\n",
    "    color=\"g\",\n",
    "    linestyle=\"--\",\n",
    "    label=f\"Cycle Time (t={data[\"Cycle_Time\"][pstep]:.2f})\",\n",
    ")\n",
    "\n",
    "# Place legend outside of plot\n",
    "# Sort the legend labels alphabetically, credit: https://stackoverflow.com/a/27512450/5541326\n",
    "handles, labels = axs.get_legend_handles_labels()\n",
    "# sort both labels and handles by labels\n",
    "labels, handles = zip(*sorted(zip(labels, handles), key=lambda t: t[0]))\n",
    "axs.legend(handles, labels, bbox_to_anchor=(1, 1), loc=\"upper left\")\n",
    "\n",
    "axs.set_xticks(range(1, StationsLength + 1))\n",
    "axs.set_xlabel(\"Stations\")\n",
    "axs.set_ylabel(\"Total Time\")\n",
    "axs.set_title(\"Operations performed at station with cumulative processing time\")\n",
    "\n",
    "plt.show()\n"
   ]
  },
  {
   "cell_type": "markdown",
   "metadata": {},
   "source": [
    "**Time per station and operation**"
   ]
  },
  {
   "cell_type": "code",
   "execution_count": 50,
   "metadata": {},
   "outputs": [
    {
     "data": {
      "image/png": "[encoded data removed]",
      "text/plain": [
       "<Figure size 1000x800 with 1 Axes>"
      ]
     },
     "metadata": {},
     "output_type": "display_data"
    }
   ],
   "source": [
    "fig, axs = plt.subplots(1, 1, figsize=(10, 8))\n",
    "\n",
    "bar_width = 0.05\n",
    "bar_gap = 0.08\n",
    "group_gap = -0.4\n",
    "\n",
    "group_multiplier = 0\n",
    "stations_x_ticks = []\n",
    "total_sum_workers = []\n",
    "colors = plt.get_cmap(\"tab20c\").colors\n",
    "color_index = 0\n",
    "\n",
    "for station in range(StationsLength):\n",
    "    workers_sum = []\n",
    "    worker_labels = []\n",
    "    bar_positions = []\n",
    "    for worker in range(WorkerCount):\n",
    "        worker_station_sum = 0\n",
    "        if converted_worker_at_station[worker, station]:\n",
    "            for op in range(OperationsLength):\n",
    "                worker_station_sum += (\n",
    "                    converted_worker_at_op[worker, op] * converted_actual_processing_time_per_op[op]\n",
    "                )\n",
    "            workers_sum.append(worker_station_sum)\n",
    "            worker_labels.append(f\"W {worker + 1}\")\n",
    "    for i in range(len(workers_sum)):\n",
    "        bar_positions.append(\n",
    "            group_multiplier * group_gap\n",
    "            + station\n",
    "            + (i - (len(workers_sum) - 1) / 2) * bar_gap\n",
    "        )\n",
    "        total_sum_workers.append(workers_sum[i])\n",
    "\n",
    "    stations_x_ticks.append(group_multiplier * group_gap + station)\n",
    "    group_multiplier += 1\n",
    "\n",
    "    bars = axs.bar(\n",
    "        bar_positions,\n",
    "        workers_sum,\n",
    "        bar_width,\n",
    "        label=f\"Station {station + 1}\",\n",
    "        color=colors[color_index % len(colors)],\n",
    "    )\n",
    "    color_index += 1\n",
    "    axs.bar_label(bars, labels=worker_labels, label_type=\"edge\")\n",
    "\n",
    "# Plot average time per worker as an hline\n",
    "average_time = np.average(total_sum_workers)\n",
    "axs.axhline(\n",
    "    y=average_time,\n",
    "    color=\"#af2020\",\n",
    "    linestyle=\"dotted\",\n",
    "    label=f\"Average Worker Time (t={average_time:.2f})\",\n",
    ")\n",
    "\n",
    "axs.set_xticks(stations_x_ticks)\n",
    "axs.set_xticklabels([f\"Station {i + 1}\" for i in range(StationsLength)])\n",
    "\n",
    "axs.set_title(\"Individual Worker Time per Station\")\n",
    "axs.set_xlabel(\"Stations\")\n",
    "axs.set_ylabel(\"Processing Time\")\n",
    "axs.legend(bbox_to_anchor=(1, 1))\n",
    "\n",
    "plt.show()\n"
   ]
  },
  {
   "cell_type": "markdown",
   "metadata": {},
   "source": [
    "**Worker utilization**"
   ]
  },
  {
   "cell_type": "code",
   "execution_count": 51,
   "metadata": {},
   "outputs": [
    {
     "data": {
      "image/png": "[encoded data removed]",
      "text/plain": [
       "<Figure size 500x400 with 1 Axes>"
      ]
     },
     "metadata": {},
     "output_type": "display_data"
    }
   ],
   "source": [
    "fig, axs = plt.subplots(1, 1, figsize=(5, 4))\n",
    "\n",
    "worker_times = []\n",
    "\n",
    "for worker in range(WorkerCount):\n",
    "    worker_sum = 0\n",
    "    for i in range(OperationsLength):\n",
    "        if converted_worker_at_op[worker, i]:\n",
    "            worker_sum += converted_actual_processing_time_per_op[i]\n",
    "    worker_times.append(worker_sum)\n",
    "    bar = axs.bar(worker + 1, worker_sum / cycle_time, color=\"seagreen\")\n",
    "    notWorkingBar = axs.bar(worker + 1, (cycle_time - worker_sum) / cycle_time, bottom=worker_sum / cycle_time, color=\"tomato\")\n",
    "    if math.isclose(worker_sum / cycle_time, 1.0, rel_tol=1e-5):\n",
    "        axs.bar_label(bar, labels=[f\"{(worker_sum / cycle_time) * 100:.1f}%\"])\n",
    "    else:\n",
    "        axs.bar_label(notWorkingBar, labels=[f\"{(worker_sum / cycle_time) * 100:.1f}%\"])\n",
    "\n",
    "\n",
    "axs.axhline(\n",
    "    y=1,\n",
    "    color=\"black\",\n",
    "    linestyle=\"--\",\n",
    ")\n",
    "axs.set_ybound(0, 1.1)\n",
    "axs.set_ylabel(\"Percent of cycle time spent working\")\n",
    "axs.set_xlabel(\"Workers\")\n",
    "axs.set_title(\"Worker utilization\")\n",
    "\n",
    "# Add legend with standard deviation information\n",
    "axs.text(0.02, 0.05, \n",
    "         f\"Smoothness Score: {smoothness_index:.2f}\\n\"\n",
    "         f\"Cycle Time: {cycle_time:.2f}\", \n",
    "         transform=axs.transAxes, \n",
    "         bbox=dict(facecolor='white', alpha=0.8, edgecolor='gray'))\n",
    "\n",
    "plt.show()\n"
   ]
  },
  {
   "cell_type": "markdown",
   "metadata": {},
   "source": [
    "**Cycle Time vs Worker Time Standard Deviation**"
   ]
  },
  {
   "cell_type": "code",
   "execution_count": 52,
   "metadata": {},
   "outputs": [
    {
     "data": {
      "image/png": "[encoded data removed]",
      "text/plain": [
       "<Figure size 1200x600 with 2 Axes>"
      ]
     },
     "metadata": {},
     "output_type": "display_data"
    }
   ],
   "source": [
    "fig, ax1 = plt.subplots(figsize=(12, 6))\n",
    "# Can toggle labels, should only be used for to accurately read values can be quite cluttered\n",
    "show_labels = False\n",
    "\n",
    "width = 0.35\n",
    "cycle_time_color = 'steelblue'\n",
    "std_dev_color = 'lightcoral'\n",
    "\n",
    "\n",
    "cycle_time_values = [i[0] for i in filter_pareto_front(data[\"pareto_front\"])]\n",
    "smoothness_index_values = [i[1] for i in filter_pareto_front(data[\"pareto_front\"])]\n",
    "x_values = list(range(len(cycle_time_values)))\n",
    "\n",
    "# Plot cycle time on left y-axis\n",
    "bars1 = ax1.bar([x - width/2 for x in x_values], cycle_time_values, width, color=cycle_time_color, \n",
    "                label='Cycle Time')\n",
    "if show_labels:\n",
    "    ax1.bar_label(bars1)\n",
    "ax1.set_xlabel('Step')\n",
    "ax1.set_ylabel('Cycle Time')\n",
    "ax1.set_xticks(x_values)\n",
    "ax1.set_xticklabels([f'{step+1}' for step in range(len(cycle_time_values))])\n",
    "# Create right y-axis for smoothness score\n",
    "ax2 = ax1.twinx()\n",
    "\n",
    "# Plot smoothness score on right y-axis\n",
    "bars2 = ax2.bar([x + width/2 for x in x_values], smoothness_index_values, width, color=std_dev_color, \n",
    "                label='Smoothness Score')\n",
    "if show_labels:\n",
    "    ax2.bar_label(bars2)\n",
    "ax2.set_ylabel('Smoothness Score')\n",
    "\n",
    "plt.title('Trade-off between Cycle Time and Smoothness Score', fontsize=14)\n",
    "\n",
    "legend_elements = [\n",
    "    plt.Rectangle((0,0), 1, 1, color=cycle_time_color, label='Cycle Time'),\n",
    "    plt.Rectangle((0,0), 1, 1, color=std_dev_color, label='Smoothness Score'),\n",
    "]\n",
    "ax1.legend(handles=legend_elements, loc='upper center', bbox_to_anchor=(0.5, -0.1), ncol=3)\n",
    "\n",
    "\n",
    "plt.tight_layout()\n",
    "plt.show()"
   ]
  },
  {
   "cell_type": "markdown",
   "metadata": {},
   "source": [
    "**Actual worker utilization vs worker utilization when ignoring the modifiers**"
   ]
  },
  {
   "cell_type": "code",
   "execution_count": null,
   "metadata": {},
   "outputs": [
    {
     "data": {
      "image/png": "[encoded data removed]",
      "text/plain": [
       "<Figure size 1200x400 with 2 Axes>"
      ]
     },
     "metadata": {},
     "output_type": "display_data"
    }
   ],
   "source": [
    "fig, ax1 = plt.subplots(1, 1, figsize=(12, 4))\n",
    "\n",
    "ax2 = ax1.twinx()\n",
    "\n",
    "converted_theoretical_processing_time_per_op = {eval(k): v for k, v in data[\"Theoretical_Processing_Time_per_Op\"][pstep].items()}\n",
    "\n",
    "worker_times = []\n",
    "width = 0.35\n",
    "offset = 0.2\n",
    "\n",
    "# Colors with different saturations\n",
    "actual_seagreen = \"seagreen\"\n",
    "actual_tomato = \"tomato\"\n",
    "theoretical_seagreen = \"darkseagreen\"\n",
    "theoretical_tomato = \"salmon\"\n",
    "\n",
    "# Left bars (with modifiers)\n",
    "for worker in range(WorkerCount):\n",
    "    worker_sum = 0\n",
    "    for i in range(OperationsLength):\n",
    "        if converted_worker_at_op[worker, i]:\n",
    "            worker_sum += converted_actual_processing_time_per_op[i]\n",
    "    worker_times.append(worker_sum)\n",
    "    bar = ax1.bar(worker + 1 - offset, worker_sum / cycle_time, width=width, color=actual_seagreen)\n",
    "    notWorkingBar = ax1.bar(worker + 1 - offset, (cycle_time - worker_sum) / cycle_time, width=width, \n",
    "                          bottom=worker_sum / cycle_time, color=actual_tomato)\n",
    "    if math.isclose(worker_sum / cycle_time, 1.0, rel_tol=1e-5):\n",
    "        ax1.bar_label(bar, labels=[f\"{(worker_sum / cycle_time) * 100:.1f}%\"])\n",
    "    else:\n",
    "        ax1.bar_label(notWorkingBar, labels=[f\"{(worker_sum / cycle_time) * 100:.1f}%\"])\n",
    "\n",
    "            \n",
    "# Calculate standard deviations\n",
    "worker_times_array = np.array(worker_times)\n",
    "std_dev_actual = np.std(worker_times_array)\n",
    "std_dev_normalized = np.std(worker_times_array / cycle_time)\n",
    "\n",
    "ax1.axhline(\n",
    "    y=1,\n",
    "    color=\"black\",\n",
    "    linestyle=\"--\",\n",
    ")\n",
    "ax1.set_ybound(0, 1.1)\n",
    "ax1.set_ylabel(\"Percent of cycle time spent working (with modifiers)\")\n",
    "ax1.set_xlabel(\"Workers\")\n",
    "ax1.set_title(\"Worker utilization\")\n",
    "\n",
    "# Calculate cycle time without modifiers\n",
    "cycle_time_no_modifiers = 0\n",
    "for station in range(StationsLength):\n",
    "    station_sum = 0\n",
    "    for i in range(OperationsLength):\n",
    "        if converted_op_at_station[i, station]:\n",
    "            station_sum += converted_theoretical_processing_time_per_op[i]\n",
    "    cycle_time_no_modifiers = max(cycle_time_no_modifiers, station_sum)\n",
    "\n",
    "# Right bars (no modifiers)\n",
    "worker_times_no_modifiers = []\n",
    "for worker in range(WorkerCount):\n",
    "    worker_sum = 0\n",
    "    for i in range(OperationsLength):\n",
    "        if converted_worker_at_op[worker, i]:\n",
    "            worker_sum += converted_theoretical_processing_time_per_op[i]\n",
    "    worker_times_no_modifiers.append(worker_sum)\n",
    "    bar = ax2.bar(worker + 1 + offset, worker_sum / cycle_time_no_modifiers, width=width, color=theoretical_seagreen)\n",
    "    notWorkingBar = ax2.bar(worker + 1 + offset, (cycle_time_no_modifiers - worker_sum) / cycle_time_no_modifiers, width=width, \n",
    "                           bottom=worker_sum / cycle_time_no_modifiers, color=theoretical_tomato)\n",
    "    if math.isclose(worker_sum / cycle_time, 1.0, rel_tol=1e-5):\n",
    "        ax2.bar_label(bar, labels=[f\"{(worker_sum / cycle_time_no_modifiers) * 100:.1f}%\"])\n",
    "    else:\n",
    "        ax2.bar_label(notWorkingBar, labels=[f\"{(worker_sum / cycle_time_no_modifiers) * 100:.1f}%\"])\n",
    "\n",
    "            \n",
    "# Calculate standard deviations\n",
    "worker_times_no_modifiers_array = np.array(worker_times_no_modifiers)\n",
    "std_dev_no_modifiers_actual = np.std(worker_times_no_modifiers_array)\n",
    "std_dev_no_modifiers_normalized = np.std(worker_times_no_modifiers_array / cycle_time_no_modifiers)\n",
    "\n",
    "ax2.set_ybound(0, 1.1)\n",
    "ax2.set_ylabel(\"Percent of cycle time spent working (no modifiers)\")\n",
    "ax2.set_xlabel(\"Workers\")\n",
    "ax2.set_title(\"Worker utilization\")\n",
    "\n",
    "# Add legend with standard deviation information\n",
    "ax2.text(0.05, 0.05, \n",
    "         f\"With modifiers (left):\\n\"\n",
    "         f\"Std Dev (normalized): {std_dev_normalized:.3f}\\n\"\n",
    "         f\"Std Dev (actual): {std_dev_actual:.2f}\\n\"\n",
    "         f\"Cycle Time: {cycle_time:.2f}\\n\"\n",
    "         f\"\\nWithout modifiers (right):\\n\"\n",
    "         f\"Std Dev (normalized): {std_dev_no_modifiers_normalized:.3f}\\n\"\n",
    "         f\"Std Dev (actual): {std_dev_no_modifiers_actual:.2f}\\n\"\n",
    "         f\"Cycle Time: {cycle_time_no_modifiers:.2f}\", \n",
    "         transform=axs.transAxes, \n",
    "         bbox=dict(facecolor='white', alpha=0.8, edgecolor='gray'))\n",
    "\n",
    "plt.show()"
   ]
  },
  {
   "cell_type": "markdown",
   "metadata": {},
   "source": [
    "**Time per station with assigned workers**"
   ]
  },
  {
   "cell_type": "code",
   "execution_count": 54,
   "metadata": {},
   "outputs": [
    {
     "data": {
      "image/png": "[encoded data removed]",
      "text/plain": [
       "<Figure size 1200x400 with 1 Axes>"
      ]
     },
     "metadata": {},
     "output_type": "display_data"
    }
   ],
   "source": [
    "fig, axs = plt.subplots(1, 1, figsize=(12, 4))\n",
    "\n",
    "# Horizontal bar chart for visualizing the number of workers at each station\n",
    "colors = plt.get_cmap(\"tab20c\").colors\n",
    "color_index = 0\n",
    "max_workers = 0\n",
    "\n",
    "for station in range(0, StationsLength):\n",
    "    workers = 0\n",
    "    for i in range(0, WorkerCount):\n",
    "        if converted_worker_at_station[i, station]:\n",
    "            workers += 1\n",
    "    bar = axs.barh(\n",
    "        station + 1,\n",
    "        workers,\n",
    "        height=0.3,\n",
    "        label=f\"Station {station + 1}\",\n",
    "        color=colors[color_index % len(colors)],\n",
    "    )\n",
    "    if max_workers < workers:\n",
    "        max_workers = workers\n",
    "    color_index += 1\n",
    "\n",
    "axs.set_yticks(range(1, StationsLength + 1))\n",
    "axs.set_yticklabels([f\"Station {i + 1}\" for i in range(StationsLength)])\n",
    "axs.set_ylabel(\"Stations\")\n",
    "axs.set_xlabel(\"Number of Workers\")\n",
    "axs.set_xticks(range(0, max_workers + 1))\n",
    "axs.set_title(\"Number of Workers per Station\")\n",
    "\n",
    "plt.show()\n"
   ]
  },
  {
   "cell_type": "markdown",
   "metadata": {},
   "source": [
    "**Number of tasks per worker**"
   ]
  },
  {
   "cell_type": "code",
   "execution_count": 55,
   "metadata": {},
   "outputs": [
    {
     "data": {
      "image/png": "[encoded data removed]",
      "text/plain": [
       "<Figure size 1200x400 with 1 Axes>"
      ]
     },
     "metadata": {},
     "output_type": "display_data"
    }
   ],
   "source": [
    "fig, axs = plt.subplots(1, 1, figsize=(12, 4))\n",
    "\n",
    "# Horizontal bar chart for visualizing the number of tasks for each worker\n",
    "colors = plt.get_cmap(\"tab20c\").colors\n",
    "color_index = 0\n",
    "\n",
    "max_tasks = 0\n",
    "\n",
    "for worker in range(0, WorkerCount):\n",
    "    tasks = 0\n",
    "    for i in range(0, OperationsLength):\n",
    "        if converted_worker_at_op[worker, i]:\n",
    "            tasks += 1\n",
    "    bar = axs.barh(\n",
    "        worker + 1,\n",
    "        tasks,\n",
    "        height=0.3,\n",
    "        label=f\"Worker {worker + 1}\",\n",
    "        color=colors[color_index % len(colors)],\n",
    "    )\n",
    "    if max_tasks < tasks:\n",
    "        max_tasks = tasks\n",
    "    color_index += 1\n",
    "\n",
    "axs.set_yticks(range(1, WorkerCount + 1))\n",
    "axs.set_yticklabels([f\"Worker {i + 1}\" for i in range(WorkerCount)])\n",
    "axs.set_ylabel(\"Workers\")\n",
    "axs.set_xlabel(\"Number of Tasks\")\n",
    "axs.set_xticks(range(0, max_tasks + 1))\n",
    "axs.set_title(\"Number of Tasks per Worker\")\n",
    "\n",
    "\n",
    "plt.show()"
   ]
  }
 ],
 "metadata": {
  "kernelspec": {
   "display_name": "Uni",
   "language": "python",
   "name": "python3"
  },
  "language_info": {
   "codemirror_mode": {
    "name": "ipython",
    "version": 3
   },
   "file_extension": ".py",
   "mimetype": "text/x-python",
   "name": "python",
   "nbconvert_exporter": "python",
   "pygments_lexer": "ipython3",
   "version": "3.12.9"
  }
 },
 "nbformat": 4,
 "nbformat_minor": 2
}
